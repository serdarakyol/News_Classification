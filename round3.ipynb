{
 "metadata": {
  "language_info": {
   "codemirror_mode": {
    "name": "ipython",
    "version": 3
   },
   "file_extension": ".py",
   "mimetype": "text/x-python",
   "name": "python",
   "nbconvert_exporter": "python",
   "pygments_lexer": "ipython3",
   "version": "3.8.5-final"
  },
  "orig_nbformat": 2,
  "kernelspec": {
   "name": "python38264bit017509113bcc46f5a8e7061da16392cb",
   "display_name": "Python 3.8.2 64-bit"
  }
 },
 "nbformat": 4,
 "nbformat_minor": 2,
 "cells": [
  {
   "cell_type": "code",
   "execution_count": 2,
   "metadata": {},
   "outputs": [],
   "source": [
    "import pandas as pd\n",
    "import numpy as np\n",
    "import re\n",
    "import string\n",
    "import nltk\n",
    "import nltk.corpus\n",
    "from sklearn.feature_extraction.text import TfidfVectorizer\n",
    "from TurkishStemmer import TurkishStemmer\n",
    "from sklearn import cluster\n",
    "from sklearn import feature_extraction\n",
    "import matplotlib.pyplot as plt\n",
    "from sklearn.cluster import KMeans\n",
    "from itertools import chain\n",
    "from TurkishStemmer import TurkishStemmer\n",
    "import matplotlib.pyplot as plt"
   ]
  },
  {
   "cell_type": "code",
   "execution_count": 3,
   "metadata": {},
   "outputs": [
    {
     "output_type": "execute_result",
     "data": {
      "text/plain": [
       "                                                                                                                                                                                                                                                                                                                                                                                                                                                                                                                                                                                                                                                                                                                                                                                                                                                                                                                                                                                                                                                                                                                                                                                                                                                                                                                                                        Content\n",
       "14053  Euro Bölgesi büyüme öngörüsü altı yılın en düşüğünde\\nIMF Euro Bölgesi büyüme öngörüsünü altı yılın en düşük düzeyine çekti\\nUluslararası Para Fonu (IMF), Bölgesel Ekonomik Görünüm raporunda Euro Bölgesi gayrisafi yurt içi hasılasının son altı yılın en düşük büyüme hızına gerileyerek, 2019 yılında yüzde 0.1 düşüşle yüzde 1.2 düzeyinde gerçekleşeceğini öngördü.\\nEuro Bölgesi için 2020 ve 2021 yılına ilişkin büyüme tahminlerini yüzde 1.5'ten yüzde 1.4'e düşüren IMF, düşüşün nedeni olarak Almanya ve İtalya ekonomilerinde görülen zayıflamayı gösterdi.IMF, 19 ülkeden oluşan Euro Bölgesi'nin bu yıl için büyüme öngörüsünü, daha önceki yüzde 1.3 düzeyinden yüzde 1.2'ye revize etti. Euro Bölgesi'nin 2018 büyümesi yüzde 1.9 düzeyindeydi.\\nAlmanya ve İtalya için önceki büyüme tahminlerini revize eden IMF, yavaşlamanın çoğunlukla euro bölgesinin en büyük ekonomisi Almanya'daki zayıf büyüme ve üçüncü büyük ekonomisi İtalya'daki durgunluktan kaynaklandığını ifade etti.\\nIMF Almanya ekonomisindeki büyüme beklentisini Nisan ayı tahmini olan yüzde 0.8'den yüzde 0.5'e ve İtalyan ekonomisinin de duraklayacağını öngörerek büyüme beklentisini yüzde 0.9'dan yüzde 0.5'e düşürdü.\\nETİKETLER :\\n                \\n                                        IMF\\n                                        euro bölgesi"
      ],
      "text/html": "<div>\n<style scoped>\n    .dataframe tbody tr th:only-of-type {\n        vertical-align: middle;\n    }\n\n    .dataframe tbody tr th {\n        vertical-align: top;\n    }\n\n    .dataframe thead th {\n        text-align: right;\n    }\n</style>\n<table border=\"1\" class=\"dataframe\">\n  <thead>\n    <tr style=\"text-align: right;\">\n      <th></th>\n      <th>Content</th>\n    </tr>\n  </thead>\n  <tbody>\n    <tr>\n      <th>14053</th>\n      <td>Euro Bölgesi büyüme öngörüsü altı yılın en düşüğünde\\nIMF Euro Bölgesi büyüme öngörüsünü altı yılın en düşük düzeyine çekti\\nUluslararası Para Fonu (IMF), Bölgesel Ekonomik Görünüm raporunda Euro Bölgesi gayrisafi yurt içi hasılasının son altı yılın en düşük büyüme hızına gerileyerek, 2019 yılında yüzde 0.1 düşüşle yüzde 1.2 düzeyinde gerçekleşeceğini öngördü.\\nEuro Bölgesi için 2020 ve 2021 yılına ilişkin büyüme tahminlerini yüzde 1.5'ten yüzde 1.4'e düşüren IMF, düşüşün nedeni olarak Almanya ve İtalya ekonomilerinde görülen zayıflamayı gösterdi.IMF, 19 ülkeden oluşan Euro Bölgesi'nin bu yıl için büyüme öngörüsünü, daha önceki yüzde 1.3 düzeyinden yüzde 1.2'ye revize etti. Euro Bölgesi'nin 2018 büyümesi yüzde 1.9 düzeyindeydi.\\nAlmanya ve İtalya için önceki büyüme tahminlerini revize eden IMF, yavaşlamanın çoğunlukla euro bölgesinin en büyük ekonomisi Almanya'daki zayıf büyüme ve üçüncü büyük ekonomisi İtalya'daki durgunluktan kaynaklandığını ifade etti.\\nIMF Almanya ekonomisindeki büyüme beklentisini Nisan ayı tahmini olan yüzde 0.8'den yüzde 0.5'e ve İtalyan ekonomisinin de duraklayacağını öngörerek büyüme beklentisini yüzde 0.9'dan yüzde 0.5'e düşürdü.\\nETİKETLER :\\n                \\n                                        IMF\\n                                        euro bölgesi</td>\n    </tr>\n  </tbody>\n</table>\n</div>"
     },
     "metadata": {},
     "execution_count": 3
    }
   ],
   "source": [
    "df = pd.read_pickle('./clustered_test_998_group_4.pkl')\n",
    "df = df.drop(df.columns[[1,2,4,5,3]], axis=1)\n",
    "pd.set_option('max_colwidth', None)\n",
    "df.head(1)"
   ]
  },
  {
   "cell_type": "code",
   "execution_count": 4,
   "metadata": {},
   "outputs": [],
   "source": [
    "myRegex = '!\"#$%&\\'()*+,-/:;<=>?@[\\\\]^_`{|}~'\n",
    "stop_word_list = nltk.corpus.stopwords.words('turkish')\n",
    "def clean_text(text):\n",
    "    text = text.lower()\n",
    "    text = re.sub('\\[*?\\]', ' ', text)\n",
    "    text = re.sub('[%s]' % re.escape(myRegex), ' ', text)\n",
    "    text = re.sub('\\w*\\d\\w*', '', text)\n",
    "    text = re.sub('[‘’“”…]', ' ', text)\n",
    "    text = re.sub('\\t', '', text)\n",
    "    text = re.sub('\\n', '', text)\n",
    "    word_tokens = nltk.word_tokenize(text)\n",
    "    filtered_sentences = [w for w in word_tokens if not w in stop_word_list]\n",
    "\n",
    "    text = ' '.join(filtered_sentences)\n",
    "    return text\n",
    "    \n",
    "round1 = lambda x: clean_text(x)\n",
    "\n",
    "df = pd.DataFrame(df['Content'].apply(round1))"
   ]
  },
  {
   "cell_type": "code",
   "execution_count": 5,
   "metadata": {},
   "outputs": [
    {
     "output_type": "execute_result",
     "data": {
      "text/plain": [
       "                                                                                                                                                                                                                                                                                                                                                                                                                                                                                                                                                                                                                                                                                                                                                                                                                                                                                                                                                                                                                                                                                                                                  Content  \\\n",
       "14053  euro bölgesi büyüme öngörüsü altı yılın düşüğündeimf euro bölgesi büyüme öngörüsünü altı yılın düşük düzeyine çektiuluslararası para fonu imf bölgesel ekonomik görünüm raporunda euro bölgesi gayrisafi yurt içi hasılasının son altı yılın düşük büyüme hızına gerileyerek yılında yüzde . düşüşle yüzde . düzeyinde gerçekleşeceğini öngördü.euro bölgesi yılına ilişkin büyüme tahminlerini yüzde . ten yüzde . e düşüren imf düşüşün nedeni olarak almanya i̇talya ekonomilerinde görülen zayıflamayı gösterdi.imf ülkeden oluşan euro bölgesi nin yıl büyüme öngörüsünü önceki yüzde . düzeyinden yüzde . ye revize etti . euro bölgesi nin büyümesi yüzde . düzeyindeydi.almanya i̇talya önceki büyüme tahminlerini revize eden imf yavaşlamanın çoğunlukla euro bölgesinin büyük ekonomisi almanya daki zayıf büyüme üçüncü büyük ekonomisi i̇talya daki durgunluktan kaynaklandığını ifade etti.imf almanya ekonomisindeki büyüme beklentisini nisan ayı tahmini olan yüzde . den yüzde . e i̇talyan ekonomisinin duraklayacağını öngörerek büyüme beklentisini yüzde . dan yüzde . e düşürdü.eti̇ketler imf euro bölgesi   \n",
       "\n",
       "                                                                                                                                                                                                                                                                                                                                                                                                                                                                                                                                                                                                                                                                                                                                                                                                                                                                                                                                                                                                                                          ready_data  \n",
       "14053  euro bölgesi büyüme öngörüsü altı yılın düşüğündeimf euro bölgesi büyüme öngörüsünü altı yılın düşük düzeyine çektiuluslararası para fonu bölgesel ekonomik görünüm raporunda euro bölgesi gayrisafi yurt hasılasının altı yılın düşük büyüme hızına gerileyerek yılında yüzde düşüşle yüzde düzeyinde gerçekleşeceğini öngördü.euro bölgesi yılına ilişkin büyüme tahminlerini yüzde yüzde düşüren düşüşün nedeni olarak almanya i̇talya ekonomilerinde görülen zayıflamayı gösterdi.imf ülkeden oluşan euro bölgesi büyüme öngörüsünü önceki yüzde düzeyinden yüzde revize etti euro bölgesi büyümesi yüzde düzeyindeydi.almanya i̇talya önceki büyüme tahminlerini revize eden yavaşlamanın çoğunlukla euro bölgesinin büyük ekonomisi almanya daki zayıf büyüme üçüncü büyük ekonomisi i̇talya daki durgunluktan kaynaklandığını ifade etti.imf almanya ekonomisindeki büyüme beklentisini nisan tahmini olan yüzde yüzde i̇talyan ekonomisinin duraklayacağını öngörerek büyüme beklentisini yüzde yüzde düşürdü.eti̇ketler euro bölgesi  "
      ],
      "text/html": "<div>\n<style scoped>\n    .dataframe tbody tr th:only-of-type {\n        vertical-align: middle;\n    }\n\n    .dataframe tbody tr th {\n        vertical-align: top;\n    }\n\n    .dataframe thead th {\n        text-align: right;\n    }\n</style>\n<table border=\"1\" class=\"dataframe\">\n  <thead>\n    <tr style=\"text-align: right;\">\n      <th></th>\n      <th>Content</th>\n      <th>ready_data</th>\n    </tr>\n  </thead>\n  <tbody>\n    <tr>\n      <th>14053</th>\n      <td>euro bölgesi büyüme öngörüsü altı yılın düşüğündeimf euro bölgesi büyüme öngörüsünü altı yılın düşük düzeyine çektiuluslararası para fonu imf bölgesel ekonomik görünüm raporunda euro bölgesi gayrisafi yurt içi hasılasının son altı yılın düşük büyüme hızına gerileyerek yılında yüzde . düşüşle yüzde . düzeyinde gerçekleşeceğini öngördü.euro bölgesi yılına ilişkin büyüme tahminlerini yüzde . ten yüzde . e düşüren imf düşüşün nedeni olarak almanya i̇talya ekonomilerinde görülen zayıflamayı gösterdi.imf ülkeden oluşan euro bölgesi nin yıl büyüme öngörüsünü önceki yüzde . düzeyinden yüzde . ye revize etti . euro bölgesi nin büyümesi yüzde . düzeyindeydi.almanya i̇talya önceki büyüme tahminlerini revize eden imf yavaşlamanın çoğunlukla euro bölgesinin büyük ekonomisi almanya daki zayıf büyüme üçüncü büyük ekonomisi i̇talya daki durgunluktan kaynaklandığını ifade etti.imf almanya ekonomisindeki büyüme beklentisini nisan ayı tahmini olan yüzde . den yüzde . e i̇talyan ekonomisinin duraklayacağını öngörerek büyüme beklentisini yüzde . dan yüzde . e düşürdü.eti̇ketler imf euro bölgesi</td>\n      <td>euro bölgesi büyüme öngörüsü altı yılın düşüğündeimf euro bölgesi büyüme öngörüsünü altı yılın düşük düzeyine çektiuluslararası para fonu bölgesel ekonomik görünüm raporunda euro bölgesi gayrisafi yurt hasılasının altı yılın düşük büyüme hızına gerileyerek yılında yüzde düşüşle yüzde düzeyinde gerçekleşeceğini öngördü.euro bölgesi yılına ilişkin büyüme tahminlerini yüzde yüzde düşüren düşüşün nedeni olarak almanya i̇talya ekonomilerinde görülen zayıflamayı gösterdi.imf ülkeden oluşan euro bölgesi büyüme öngörüsünü önceki yüzde düzeyinden yüzde revize etti euro bölgesi büyümesi yüzde düzeyindeydi.almanya i̇talya önceki büyüme tahminlerini revize eden yavaşlamanın çoğunlukla euro bölgesinin büyük ekonomisi almanya daki zayıf büyüme üçüncü büyük ekonomisi i̇talya daki durgunluktan kaynaklandığını ifade etti.imf almanya ekonomisindeki büyüme beklentisini nisan tahmini olan yüzde yüzde i̇talyan ekonomisinin duraklayacağını öngörerek büyüme beklentisini yüzde yüzde düşürdü.eti̇ketler euro bölgesi</td>\n    </tr>\n  </tbody>\n</table>\n</div>"
     },
     "metadata": {},
     "execution_count": 5
    }
   ],
   "source": [
    "df['ready_data'] = df['Content'].apply(lambda x: ' '.join([w for w in x.split() if len(w)>3]))\n",
    "df.head(1)\n"
   ]
  },
  {
   "cell_type": "code",
   "execution_count": 6,
   "metadata": {},
   "outputs": [],
   "source": [
    "tokenized_doc = df['ready_data'].apply(lambda x: x.split('.'))\n",
    "tokenized_doc = tokenized_doc.apply(lambda x: [item for item in x if item not in stop_word_list])\n",
    "tokenized_doc = tokenized_doc.tolist()"
   ]
  },
  {
   "cell_type": "code",
   "execution_count": 7,
   "metadata": {},
   "outputs": [
    {
     "output_type": "execute_result",
     "data": {
      "text/plain": [
       "998"
      ]
     },
     "metadata": {},
     "execution_count": 7
    }
   ],
   "source": [
    "detokenized_doc = []\n",
    "for i in range(len(tokenized_doc)):\n",
    "    t = ' '.join(tokenized_doc[i])\n",
    "    detokenized_doc.append(t)\n",
    "    #if i in tokenized_doc:\n",
    "        \n",
    "len(detokenized_doc)"
   ]
  },
  {
   "cell_type": "code",
   "execution_count": 8,
   "metadata": {},
   "outputs": [
    {
     "output_type": "stream",
     "name": "stdout",
     "text": [
      "(998, 54673)\n"
     ]
    }
   ],
   "source": [
    "vectorizer = TfidfVectorizer(stop_words=stop_word_list,max_features=200000,\n",
    "                             max_df = 0.8, use_idf = True, ngram_range=(1,3))\n",
    "X = vectorizer.fit_transform(detokenized_doc)\n",
    "print(X.shape) \n",
    "terms = vectorizer.get_feature_names()"
   ]
  },
  {
   "cell_type": "code",
   "execution_count": 10,
   "metadata": {},
   "outputs": [],
   "source": [
    "from sklearn import preprocessing\n",
    "XXX = preprocessing.normalize(X)\n",
    "num_clusters = 4\n",
    "km = KMeans(n_clusters=num_clusters).fit(XXX)\n",
    "clusters = km.labels_.tolist()"
   ]
  },
  {
   "cell_type": "code",
   "execution_count": 11,
   "metadata": {},
   "outputs": [],
   "source": [
    "#burdasi tahmin etmek icin. bunlari fonksiyona cevir\n",
    "df_test = pd.read_pickle('./clustered_test_40300_all_group.pkl')\n",
    "\"\"\"df_test = df_test.drop(df_test.columns[[1,3,4,5,6,7,8]], axis=1)\n",
    "test_data = df_test.values.tolist()\n",
    "test_data[0]\"\"\"\n",
    "\n",
    "df_test = pd.DataFrame(df_test['Content'].apply(round1))\n",
    "df_test['ready_data'] = df_test['Content'].apply(lambda x: ' '.join([w for w in x.split() if len(w)>3]))\n",
    "\n",
    "test_tokenized_doc = df_test['ready_data'].apply(lambda x: x.split('.'))\n",
    "test_tokenized_doc = test_tokenized_doc.apply(lambda x: [item for item in x if item not in stop_word_list])\n",
    "test_tokenized_doc = test_tokenized_doc.tolist()\n",
    "\n",
    "test_detokenized_doc = []\n",
    "for i in range(len(test_tokenized_doc)):\n",
    "    t = ' '.join(test_tokenized_doc[i])\n",
    "    test_detokenized_doc.append(t)\n",
    "\n",
    "\n",
    "test_vectorizer = TfidfVectorizer(stop_words=stop_word_list, max_features=200000,\n",
    "                             max_df = 0.8, use_idf = True, ngram_range=(1,3))"
   ]
  },
  {
   "cell_type": "code",
   "execution_count": 12,
   "metadata": {},
   "outputs": [
    {
     "output_type": "stream",
     "name": "stdout",
     "text": [
      "(998, 54673)\n"
     ]
    }
   ],
   "source": [
    "XX = test_vectorizer.fit_transform(test_detokenized_doc)\n",
    "print(XX.shape) # check shape of the document-term matrix"
   ]
  },
  {
   "cell_type": "code",
   "execution_count": 13,
   "metadata": {},
   "outputs": [],
   "source": [
    "test_data_clusters = []\n",
    "for i in range(998):\n",
    "    test_data_clusters.append(km.predict(XX[i]))"
   ]
  },
  {
   "cell_type": "code",
   "execution_count": 14,
   "metadata": {},
   "outputs": [
    {
     "output_type": "execute_result",
     "data": {
      "text/plain": [
       "                                                                                                                                                                                                                                                                                                                                                                                                                                                                                                                                                                                                                                                                                                                                                                                                                                                                                                                                                                                                                                                                                                                                                                                 ready_data  \\\n",
       "14053                                                                                                                                         euro bölgesi büyüme öngörüsü altı yılın düşüğündeimf euro bölgesi büyüme öngörüsünü altı yılın düşük düzeyine çektiuluslararası para fonu bölgesel ekonomik görünüm raporunda euro bölgesi gayrisafi yurt hasılasının altı yılın düşük büyüme hızına gerileyerek yılında yüzde düşüşle yüzde düzeyinde gerçekleşeceğini öngördü.euro bölgesi yılına ilişkin büyüme tahminlerini yüzde yüzde düşüren düşüşün nedeni olarak almanya i̇talya ekonomilerinde görülen zayıflamayı gösterdi.imf ülkeden oluşan euro bölgesi büyüme öngörüsünü önceki yüzde düzeyinden yüzde revize etti euro bölgesi büyümesi yüzde düzeyindeydi.almanya i̇talya önceki büyüme tahminlerini revize eden yavaşlamanın çoğunlukla euro bölgesinin büyük ekonomisi almanya daki zayıf büyüme üçüncü büyük ekonomisi i̇talya daki durgunluktan kaynaklandığını ifade etti.imf almanya ekonomisindeki büyüme beklentisini nisan tahmini olan yüzde yüzde i̇talyan ekonomisinin duraklayacağını öngörerek büyüme beklentisini yüzde yüzde düşürdü.eti̇ketler euro bölgesi   \n",
       "14148                                             euro bölgesi büyüme öngörüsü altı yılın düşüğündeimf euro bölgesi büyüme öngörüsünü altı yılın düşük düzeyine çektiuluslararası para fonu bölgesel ekonomik görünüm raporunda euro bölgesi gayrisafi yurt hasılasının altı yılın düşük büyüme hızına gerileyerek yılında yüzde düşüşle yüzde düzeyinde gerçekleşeceğini öngördü euro bölgesi yılına ilişkin büyüme tahminlerini yüzde yüzde düşüren düşüşün nedeni olarak almanya i̇talya ekonomilerinde görülen zayıflamayı gösterdi ülkeden oluşan euro bölgesi büyüme öngörüsünü önceki yüzde düzeyinden yüzde revize etti euro bölgesi büyümesi yüzde düzeyindeydi almanya i̇talya önceki büyüme tahminlerini revize eden yavaşlamanın çoğunlukla euro bölgesinin büyük ekonomisi almanya daki zayıf büyüme üçüncü büyük ekonomisi i̇talya daki durgunluktan kaynaklandığını ifade etti almanya ekonomisindeki büyüme beklentisini nisan tahmini olan yüzde yüzde i̇talyan ekonomisinin duraklayacağını öngörerek büyüme beklentisini yüzde yüzde düşürdü sayfada alan bilgiler tavsiye niteliği taşımayıp yatırım danışmanlığı kapsamında değildir yatırımcı profilinize uymayabilir   \n",
       "13559  euro bölgesi büyüme öngörüsünü altı yılın düşük düzeyine çektiuluslararası para fonu bölgesel ekonomik görünüm raporunda euro bölgesi gayrisafi yurt hasılasının altı yılın düşük büyüme hızına gerileyerek yılında yüzde düşüşle yüzde düzeyinde gerçekleşeceğini öngördü.uluslararası para fonu bölgesel ekonomik görünüm raporunda euro bölgesi gayrisafi yurt hasılasının altı yılın düşük büyüme hızına gerileyerek yılında yüzde düşüşle yüzde düzeyinde gerçekleşeceğini öngördü euro bölgesi yılına ilişkin büyüme tahminlerini yüzde yüzde düşüren düşüşün nedeni olarak almanya i̇talya ekonomilerinde görülen zayıflamayı gösterdi.imf ülkeden oluşan euro bölgesi büyüme öngörüsünü önceki yüzde düzeyinden yüzde revize etti euro bölgesi büyümesi yüzde düzeyindeydi.almanya i̇talya önceki büyüme tahminlerini revize eden yavaşlamanın çoğunlukla euro bölgesinin büyük ekonomisi almanya daki zayıf büyüme üçüncü büyük ekonomisi i̇talya daki durgunluktan kaynaklandığını ifade etti.imf almanya ekonomisindeki büyüme beklentisini nisan tahmini olan yüzde yüzde i̇talyan ekonomisinin duraklayacağını öngörerek büyüme beklentisini yüzde yüzde düşürdü kaynak   \n",
       "13566                                                                                                                                                                                                                                                                                                                                                                                                                                                                                                                                                           euro bölgesi büyüme öngörüsünü altı yılın düşük düzeyine çektihaber euro bölgesi büyüme öngörüsünü altı yılın düşük düzeyine çekti uluslararası para fonu bölgesel ekonomik görünüm raporunda euro bölgesi gayrisafi yurt hasılasının altı yılın düşük büyüme hızına gerileyerek yılında yüzde düşüşle yüzde düzeyinde gerçekleşeceğini öngördü euro bölgesi büyüme öngörüsünü altı yılın düşük düzeyine çekti uluslararası para fonu bölgesel ekonomik görünüm raporunda euro bölgesi gayrisafi yurt hasılasının altı yılın düşük büyüme hızına gerileyerek yılında yüzde düşüşle yüzde düzeyinde gerçekleşeceğini öngördü   \n",
       "13894                 euro bölgesi büyüme öngörüsünü altı yılın düşük düzeyine çektiuluslararası para fonu bölgesel ekonomik görünüm raporunda euro bölgesi gayrisafi yurt hasılasının altı yılın düşük büyüme hızına gerileyerek yılında yüzde düşüşle yüzde düzeyinde gerçekleşeceğini uluslararası para fonu bölgesel ekonomik görünüm raporunda euro bölgesi gayrisafi yurt hasılasının altı yılın düşük büyüme hızına gerileyerek yılında yüzde düşüşle yüzde düzeyinde gerçekleşeceğini öngördü.euro bölgesi yılına ilişkin büyüme tahminlerini yüzde yüzde düşüren düşüşün nedeni olarak almanya i̇talya ekonomilerinde görülen zayıflamayı gösterdi.imf ülkeden oluşan euro bölgesi büyüme öngörüsünü önceki yüzde düzeyinden yüzde revize etti euro bölgesi büyümesi yüzde düzeyindeydi.almanya i̇talya önceki büyüme tahminlerini revize eden yavaşlamanın çoğunlukla euro bölgesinin büyük ekonomisi almanya daki zayıf büyüme üçüncü büyük ekonomisi i̇talya daki durgunluktan kaynaklandığını ifade etti.imf almanya ekonomisindeki büyüme beklentisini nisan tahmini olan yüzde yüzde i̇talyan ekonomisinin duraklayacağını öngörerek büyüme beklentisini yüzde yüzde düşürdü   \n",
       "...                                                                                                                                                                                                                                                                                                                                                                                                                                                                                                                                                                                                                                                                                                                                                                                                                                                                                                                                                                                                                                                                                                                                                                                     ...   \n",
       "17142                                                                                                                                                                                                                                                                                                                                                                             bakan albayrak gelirlilere konut müjdesi hazine maliye bakanı berat albayrak vade düşük faiz oranıyla sahibi yapacak altyapıyı tamamladık dedi.hazine maliye bakanı berat albayrak samsun dünyası buluşma programında konuştu albayrak konuşmasından çıkanlar şöyle tarihi süreçten güçlenerek çıktık ekim itibarıyla tüfe seviyelerine inerek hakikaten tarihi netice ortaya koyduk asgari ücretli gelirli vatandaşlarımızı sahibi yapacak modeli hayata geçiriyoruz vadeyle tarihin düşük faiz oranı kira öder sahibi olacaklar toki̇ içinde alacağı vatandaşımızı sahibi yapacak modelin ayrıntılarını evlerin modellerini şehirleri uygulama şartlarını sayın cumhurbaşkanımız özel programla vatandaşlarımızla paylaşacak bunlar inşallah başlangıç i̇nşallah güçlü müjdeleri vermeye devam edeceğiz   \n",
       "40015                                                                                                                                                                                                                        berat albayrak asgari ücretli vatandaşlarımızı sahibi yapacak modelin finansman altyapısını tamamladıkhazine maliye bakanı berat albayrak türkiye i̇çin değişim başlıyor programında konuştu albayrak açıklamalarından satır başları şöyle ekim itibarıyla tüfe seviyelerine inerek hakikaten tarihi netice ortaya koyduk aylık olağanüstü dönemi tahminlerden hasarla geride bıraktık çeyreğe ilişkin öncü göstergeler toparlanma eğiliminin güçlendiğini gösteriyor altını piyasaya kazandırdık yılı pozitif büyümeyle kapatacağız asgari ücretli gelirli vatandaşlarımızı sahibi yapacak modelin finansman altyapısını tamamladık vadeyle bugüne kadar türkiye uygulanmış tarihin düşük faiz oranı kira öder sahibi olacaklar toki̇ içinde alacağı vatandaşımızı sahibi yapacak modelin ayrıntılarını evlerin modellerini şehirleri uygulama şartlarını bitmeden sayın cumhurbaşkanımız önderliğinde özel programla vatandaşlarımıza anlatacağız eti̇ketler   \n",
       "313                                                                                                                                                                                                                                                                                                                                                                                                                                                                                                                                                                                                                                                                                                                                                                                                                 gelirlilere konut müjdesihazine maliye bakanı berat albayrak vade düşük faiz oranıyla sahibi yapacak altyapıyı tamamladık dedi.hazine maliye bakanı berat albayrak samsun dünyası buluşma programında konuşuyor.albayrak konuşmasından çıkanlar şöyle tarihi süreçten güçlenerek çıktık vade düşük faiz oranıyla sahibi yapacak altyapıyı tamamladık ayrıntılar geliyor   \n",
       "959                                                                                                                                                                                                                                                                                                                                                                                  gelirlilere konut müjdesihazine maliye bakanı berat albayrak vade düşük faiz oranıyla sahibi yapacak altyapıyı tamamladık dedi.hazine maliye bakanı berat albayrak samsun dünyası buluşma programında konuştu.albayrak konuşmasından çıkanlar şöyle tarihi süreçten güçlenerek çıktık ekim itibarıyla tüfe seviyelerine inerek hakikaten tarihi netice ortaya koyduk asgari ücretli gelirli vatandaşlarımızı sahibi yapacak modeli hayata geçiriyoruz vadeyle tarihin düşük faiz oranı kira öder sahibi olacaklar toki̇ içinde alacağı vatandaşımızı sahibi yapacak modelin ayrıntılarını evlerin modellerini şehirleri uygulama şartlarını sayın cumhurbaşkanımız özel programla vatandaşlarımızla paylaşacak bunlar inşallah başlangıç i̇nşallah güçlü müjdeleri vermeye devam edeceğiz.kaynak haber   \n",
       "3986                                                                                                                                                                                                                                                                                                                                                                           gelirlilere konut müjdesihazine maliye bakanı berat albayrak vade düşük faiz oranıyla sahibi yapacak altyapıyı tamamladık dedi kasım hazine maliye bakanı berat albayrak samsun dünyası buluşma programında konuştu albayrak konuşmasından çıkanlar şöyle tarihi süreçten güçlenerek çıktık ekim itibarıyla tüfe seviyelerine inerek hakikaten tarihi netice ortaya koyduk asgari ücretli gelirli vatandaşlarımızı sahibi yapacak modeli hayata geçiriyoruz vadeyle tarihin düşük faiz oranı kira öder sahibi olacaklar toki̇ içinde alacağı vatandaşımızı sahibi yapacak modelin ayrıntılarını evlerin modellerini şehirleri uygulama şartlarını sayın cumhurbaşkanımız özel programla vatandaşlarımızla paylaşacak bunlar inşallah başlangıç i̇nşallah güçlü müjdeleri vermeye devam edeceğiz kaynak haber   \n",
       "\n",
       "      Cluster  \n",
       "14053     [3]  \n",
       "14148     [3]  \n",
       "13559     [3]  \n",
       "13566     [3]  \n",
       "13894     [3]  \n",
       "...       ...  \n",
       "17142     [0]  \n",
       "40015     [0]  \n",
       "313       [0]  \n",
       "959       [0]  \n",
       "3986      [0]  \n",
       "\n",
       "[978 rows x 2 columns]"
      ],
      "text/html": "<div>\n<style scoped>\n    .dataframe tbody tr th:only-of-type {\n        vertical-align: middle;\n    }\n\n    .dataframe tbody tr th {\n        vertical-align: top;\n    }\n\n    .dataframe thead th {\n        text-align: right;\n    }\n</style>\n<table border=\"1\" class=\"dataframe\">\n  <thead>\n    <tr style=\"text-align: right;\">\n      <th></th>\n      <th>ready_data</th>\n      <th>Cluster</th>\n    </tr>\n  </thead>\n  <tbody>\n    <tr>\n      <th>14053</th>\n      <td>euro bölgesi büyüme öngörüsü altı yılın düşüğündeimf euro bölgesi büyüme öngörüsünü altı yılın düşük düzeyine çektiuluslararası para fonu bölgesel ekonomik görünüm raporunda euro bölgesi gayrisafi yurt hasılasının altı yılın düşük büyüme hızına gerileyerek yılında yüzde düşüşle yüzde düzeyinde gerçekleşeceğini öngördü.euro bölgesi yılına ilişkin büyüme tahminlerini yüzde yüzde düşüren düşüşün nedeni olarak almanya i̇talya ekonomilerinde görülen zayıflamayı gösterdi.imf ülkeden oluşan euro bölgesi büyüme öngörüsünü önceki yüzde düzeyinden yüzde revize etti euro bölgesi büyümesi yüzde düzeyindeydi.almanya i̇talya önceki büyüme tahminlerini revize eden yavaşlamanın çoğunlukla euro bölgesinin büyük ekonomisi almanya daki zayıf büyüme üçüncü büyük ekonomisi i̇talya daki durgunluktan kaynaklandığını ifade etti.imf almanya ekonomisindeki büyüme beklentisini nisan tahmini olan yüzde yüzde i̇talyan ekonomisinin duraklayacağını öngörerek büyüme beklentisini yüzde yüzde düşürdü.eti̇ketler euro bölgesi</td>\n      <td>[3]</td>\n    </tr>\n    <tr>\n      <th>14148</th>\n      <td>euro bölgesi büyüme öngörüsü altı yılın düşüğündeimf euro bölgesi büyüme öngörüsünü altı yılın düşük düzeyine çektiuluslararası para fonu bölgesel ekonomik görünüm raporunda euro bölgesi gayrisafi yurt hasılasının altı yılın düşük büyüme hızına gerileyerek yılında yüzde düşüşle yüzde düzeyinde gerçekleşeceğini öngördü euro bölgesi yılına ilişkin büyüme tahminlerini yüzde yüzde düşüren düşüşün nedeni olarak almanya i̇talya ekonomilerinde görülen zayıflamayı gösterdi ülkeden oluşan euro bölgesi büyüme öngörüsünü önceki yüzde düzeyinden yüzde revize etti euro bölgesi büyümesi yüzde düzeyindeydi almanya i̇talya önceki büyüme tahminlerini revize eden yavaşlamanın çoğunlukla euro bölgesinin büyük ekonomisi almanya daki zayıf büyüme üçüncü büyük ekonomisi i̇talya daki durgunluktan kaynaklandığını ifade etti almanya ekonomisindeki büyüme beklentisini nisan tahmini olan yüzde yüzde i̇talyan ekonomisinin duraklayacağını öngörerek büyüme beklentisini yüzde yüzde düşürdü sayfada alan bilgiler tavsiye niteliği taşımayıp yatırım danışmanlığı kapsamında değildir yatırımcı profilinize uymayabilir</td>\n      <td>[3]</td>\n    </tr>\n    <tr>\n      <th>13559</th>\n      <td>euro bölgesi büyüme öngörüsünü altı yılın düşük düzeyine çektiuluslararası para fonu bölgesel ekonomik görünüm raporunda euro bölgesi gayrisafi yurt hasılasının altı yılın düşük büyüme hızına gerileyerek yılında yüzde düşüşle yüzde düzeyinde gerçekleşeceğini öngördü.uluslararası para fonu bölgesel ekonomik görünüm raporunda euro bölgesi gayrisafi yurt hasılasının altı yılın düşük büyüme hızına gerileyerek yılında yüzde düşüşle yüzde düzeyinde gerçekleşeceğini öngördü euro bölgesi yılına ilişkin büyüme tahminlerini yüzde yüzde düşüren düşüşün nedeni olarak almanya i̇talya ekonomilerinde görülen zayıflamayı gösterdi.imf ülkeden oluşan euro bölgesi büyüme öngörüsünü önceki yüzde düzeyinden yüzde revize etti euro bölgesi büyümesi yüzde düzeyindeydi.almanya i̇talya önceki büyüme tahminlerini revize eden yavaşlamanın çoğunlukla euro bölgesinin büyük ekonomisi almanya daki zayıf büyüme üçüncü büyük ekonomisi i̇talya daki durgunluktan kaynaklandığını ifade etti.imf almanya ekonomisindeki büyüme beklentisini nisan tahmini olan yüzde yüzde i̇talyan ekonomisinin duraklayacağını öngörerek büyüme beklentisini yüzde yüzde düşürdü kaynak</td>\n      <td>[3]</td>\n    </tr>\n    <tr>\n      <th>13566</th>\n      <td>euro bölgesi büyüme öngörüsünü altı yılın düşük düzeyine çektihaber euro bölgesi büyüme öngörüsünü altı yılın düşük düzeyine çekti uluslararası para fonu bölgesel ekonomik görünüm raporunda euro bölgesi gayrisafi yurt hasılasının altı yılın düşük büyüme hızına gerileyerek yılında yüzde düşüşle yüzde düzeyinde gerçekleşeceğini öngördü euro bölgesi büyüme öngörüsünü altı yılın düşük düzeyine çekti uluslararası para fonu bölgesel ekonomik görünüm raporunda euro bölgesi gayrisafi yurt hasılasının altı yılın düşük büyüme hızına gerileyerek yılında yüzde düşüşle yüzde düzeyinde gerçekleşeceğini öngördü</td>\n      <td>[3]</td>\n    </tr>\n    <tr>\n      <th>13894</th>\n      <td>euro bölgesi büyüme öngörüsünü altı yılın düşük düzeyine çektiuluslararası para fonu bölgesel ekonomik görünüm raporunda euro bölgesi gayrisafi yurt hasılasının altı yılın düşük büyüme hızına gerileyerek yılında yüzde düşüşle yüzde düzeyinde gerçekleşeceğini uluslararası para fonu bölgesel ekonomik görünüm raporunda euro bölgesi gayrisafi yurt hasılasının altı yılın düşük büyüme hızına gerileyerek yılında yüzde düşüşle yüzde düzeyinde gerçekleşeceğini öngördü.euro bölgesi yılına ilişkin büyüme tahminlerini yüzde yüzde düşüren düşüşün nedeni olarak almanya i̇talya ekonomilerinde görülen zayıflamayı gösterdi.imf ülkeden oluşan euro bölgesi büyüme öngörüsünü önceki yüzde düzeyinden yüzde revize etti euro bölgesi büyümesi yüzde düzeyindeydi.almanya i̇talya önceki büyüme tahminlerini revize eden yavaşlamanın çoğunlukla euro bölgesinin büyük ekonomisi almanya daki zayıf büyüme üçüncü büyük ekonomisi i̇talya daki durgunluktan kaynaklandığını ifade etti.imf almanya ekonomisindeki büyüme beklentisini nisan tahmini olan yüzde yüzde i̇talyan ekonomisinin duraklayacağını öngörerek büyüme beklentisini yüzde yüzde düşürdü</td>\n      <td>[3]</td>\n    </tr>\n    <tr>\n      <th>...</th>\n      <td>...</td>\n      <td>...</td>\n    </tr>\n    <tr>\n      <th>17142</th>\n      <td>bakan albayrak gelirlilere konut müjdesi hazine maliye bakanı berat albayrak vade düşük faiz oranıyla sahibi yapacak altyapıyı tamamladık dedi.hazine maliye bakanı berat albayrak samsun dünyası buluşma programında konuştu albayrak konuşmasından çıkanlar şöyle tarihi süreçten güçlenerek çıktık ekim itibarıyla tüfe seviyelerine inerek hakikaten tarihi netice ortaya koyduk asgari ücretli gelirli vatandaşlarımızı sahibi yapacak modeli hayata geçiriyoruz vadeyle tarihin düşük faiz oranı kira öder sahibi olacaklar toki̇ içinde alacağı vatandaşımızı sahibi yapacak modelin ayrıntılarını evlerin modellerini şehirleri uygulama şartlarını sayın cumhurbaşkanımız özel programla vatandaşlarımızla paylaşacak bunlar inşallah başlangıç i̇nşallah güçlü müjdeleri vermeye devam edeceğiz</td>\n      <td>[0]</td>\n    </tr>\n    <tr>\n      <th>40015</th>\n      <td>berat albayrak asgari ücretli vatandaşlarımızı sahibi yapacak modelin finansman altyapısını tamamladıkhazine maliye bakanı berat albayrak türkiye i̇çin değişim başlıyor programında konuştu albayrak açıklamalarından satır başları şöyle ekim itibarıyla tüfe seviyelerine inerek hakikaten tarihi netice ortaya koyduk aylık olağanüstü dönemi tahminlerden hasarla geride bıraktık çeyreğe ilişkin öncü göstergeler toparlanma eğiliminin güçlendiğini gösteriyor altını piyasaya kazandırdık yılı pozitif büyümeyle kapatacağız asgari ücretli gelirli vatandaşlarımızı sahibi yapacak modelin finansman altyapısını tamamladık vadeyle bugüne kadar türkiye uygulanmış tarihin düşük faiz oranı kira öder sahibi olacaklar toki̇ içinde alacağı vatandaşımızı sahibi yapacak modelin ayrıntılarını evlerin modellerini şehirleri uygulama şartlarını bitmeden sayın cumhurbaşkanımız önderliğinde özel programla vatandaşlarımıza anlatacağız eti̇ketler</td>\n      <td>[0]</td>\n    </tr>\n    <tr>\n      <th>313</th>\n      <td>gelirlilere konut müjdesihazine maliye bakanı berat albayrak vade düşük faiz oranıyla sahibi yapacak altyapıyı tamamladık dedi.hazine maliye bakanı berat albayrak samsun dünyası buluşma programında konuşuyor.albayrak konuşmasından çıkanlar şöyle tarihi süreçten güçlenerek çıktık vade düşük faiz oranıyla sahibi yapacak altyapıyı tamamladık ayrıntılar geliyor</td>\n      <td>[0]</td>\n    </tr>\n    <tr>\n      <th>959</th>\n      <td>gelirlilere konut müjdesihazine maliye bakanı berat albayrak vade düşük faiz oranıyla sahibi yapacak altyapıyı tamamladık dedi.hazine maliye bakanı berat albayrak samsun dünyası buluşma programında konuştu.albayrak konuşmasından çıkanlar şöyle tarihi süreçten güçlenerek çıktık ekim itibarıyla tüfe seviyelerine inerek hakikaten tarihi netice ortaya koyduk asgari ücretli gelirli vatandaşlarımızı sahibi yapacak modeli hayata geçiriyoruz vadeyle tarihin düşük faiz oranı kira öder sahibi olacaklar toki̇ içinde alacağı vatandaşımızı sahibi yapacak modelin ayrıntılarını evlerin modellerini şehirleri uygulama şartlarını sayın cumhurbaşkanımız özel programla vatandaşlarımızla paylaşacak bunlar inşallah başlangıç i̇nşallah güçlü müjdeleri vermeye devam edeceğiz.kaynak haber</td>\n      <td>[0]</td>\n    </tr>\n    <tr>\n      <th>3986</th>\n      <td>gelirlilere konut müjdesihazine maliye bakanı berat albayrak vade düşük faiz oranıyla sahibi yapacak altyapıyı tamamladık dedi kasım hazine maliye bakanı berat albayrak samsun dünyası buluşma programında konuştu albayrak konuşmasından çıkanlar şöyle tarihi süreçten güçlenerek çıktık ekim itibarıyla tüfe seviyelerine inerek hakikaten tarihi netice ortaya koyduk asgari ücretli gelirli vatandaşlarımızı sahibi yapacak modeli hayata geçiriyoruz vadeyle tarihin düşük faiz oranı kira öder sahibi olacaklar toki̇ içinde alacağı vatandaşımızı sahibi yapacak modelin ayrıntılarını evlerin modellerini şehirleri uygulama şartlarını sayın cumhurbaşkanımız özel programla vatandaşlarımızla paylaşacak bunlar inşallah başlangıç i̇nşallah güçlü müjdeleri vermeye devam edeceğiz kaynak haber</td>\n      <td>[0]</td>\n    </tr>\n  </tbody>\n</table>\n<p>978 rows × 2 columns</p>\n</div>"
     },
     "metadata": {},
     "execution_count": 14
    }
   ],
   "source": [
    "#benim tahmin ettiklerim\n",
    "df_test['Cluster'] = test_data_clusters\n",
    "df_test[['ready_data','Cluster']].head(-20)\n",
    "#df_test.to_csv(r'/home/ak/Desktop/clustered_test_datasets/pandas.csv', header=None, index=None, sep=' ', mode='a')"
   ]
  },
  {
   "cell_type": "code",
   "execution_count": 16,
   "metadata": {},
   "outputs": [
    {
     "output_type": "execute_result",
     "data": {
      "text/plain": [
       "       ClusterCalcTime                           ClusterUuID  \\\n",
       "14053             1161  06f05f39-0ff9-4e60-ae16-d7401ffec0d3   \n",
       "14148             1298  06f05f39-0ff9-4e60-ae16-d7401ffec0d3   \n",
       "13559             1000  06f05f39-0ff9-4e60-ae16-d7401ffec0d3   \n",
       "13566              552  06f05f39-0ff9-4e60-ae16-d7401ffec0d3   \n",
       "13894             1069  06f05f39-0ff9-4e60-ae16-d7401ffec0d3   \n",
       "...                ...                                   ...   \n",
       "17142              326  e95cda04-6d08-46df-9479-b893468e1833   \n",
       "40015              435  e95cda04-6d08-46df-9479-b893468e1833   \n",
       "313                742  e95cda04-6d08-46df-9479-b893468e1833   \n",
       "959                446  e95cda04-6d08-46df-9479-b893468e1833   \n",
       "3986               388  e95cda04-6d08-46df-9479-b893468e1833   \n",
       "\n",
       "                                                                                                                                                                                                                                                                                                                                                                                                                                                                                                                                                                                                                                                                                                                                                                                                                                                                                                                                                                                                                                                                                                                                                                                                                                                                                                                                                                                                                                                                                                                Content  \\\n",
       "14053                                                                                                                                                          Euro Bölgesi büyüme öngörüsü altı yılın en düşüğünde\\nIMF Euro Bölgesi büyüme öngörüsünü altı yılın en düşük düzeyine çekti\\nUluslararası Para Fonu (IMF), Bölgesel Ekonomik Görünüm raporunda Euro Bölgesi gayrisafi yurt içi hasılasının son altı yılın en düşük büyüme hızına gerileyerek, 2019 yılında yüzde 0.1 düşüşle yüzde 1.2 düzeyinde gerçekleşeceğini öngördü.\\nEuro Bölgesi için 2020 ve 2021 yılına ilişkin büyüme tahminlerini yüzde 1.5'ten yüzde 1.4'e düşüren IMF, düşüşün nedeni olarak Almanya ve İtalya ekonomilerinde görülen zayıflamayı gösterdi.IMF, 19 ülkeden oluşan Euro Bölgesi'nin bu yıl için büyüme öngörüsünü, daha önceki yüzde 1.3 düzeyinden yüzde 1.2'ye revize etti. Euro Bölgesi'nin 2018 büyümesi yüzde 1.9 düzeyindeydi.\\nAlmanya ve İtalya için önceki büyüme tahminlerini revize eden IMF, yavaşlamanın çoğunlukla euro bölgesinin en büyük ekonomisi Almanya'daki zayıf büyüme ve üçüncü büyük ekonomisi İtalya'daki durgunluktan kaynaklandığını ifade etti.\\nIMF Almanya ekonomisindeki büyüme beklentisini Nisan ayı tahmini olan yüzde 0.8'den yüzde 0.5'e ve İtalyan ekonomisinin de duraklayacağını öngörerek büyüme beklentisini yüzde 0.9'dan yüzde 0.5'e düşürdü.\\nETİKETLER :\\n                \\n                                        IMF\\n                                        euro bölgesi   \n",
       "14148                                                                                                                             Euro Bölgesi büyüme öngörüsü altı yılın en düşüğünde\\nIMF Euro Bölgesi büyüme öngörüsünü altı yılın en düşük düzeyine çekti\\nUluslararası Para Fonu (IMF), Bölgesel Ekonomik Görünüm raporunda Euro Bölgesi gayrisafi yurt içi hasılasının son altı yılın en düşük büyüme hızına gerileyerek, 2019 yılında yüzde 0.1 düşüşle yüzde 1.2 düzeyinde gerçekleşeceğini öngördü.  Euro Bölgesi için 2020 ve 2021 yılına ilişkin büyüme tahminlerini yüzde 1.5'ten yüzde 1.4'e düşüren IMF, düşüşün nedeni olarak Almanya ve İtalya ekonomilerinde görülen zayıflamayı gösterdi. IMF, 19 ülkeden oluşan Euro Bölgesi'nin bu yıl için büyüme öngörüsünü, daha önceki yüzde 1.3 düzeyinden yüzde 1.2'ye revize etti. Euro Bölgesi'nin 2018 büyümesi yüzde 1.9 düzeyindeydi.  Almanya ve İtalya için önceki büyüme tahminlerini revize eden IMF, yavaşlamanın çoğunlukla euro bölgesinin en büyük ekonomisi Almanya'daki zayıf büyüme ve üçüncü büyük ekonomisi İtalya'daki durgunluktan kaynaklandığını ifade etti.  IMF Almanya ekonomisindeki büyüme beklentisini Nisan ayı tahmini olan yüzde 0.8'den yüzde 0.5'e ve İtalyan ekonomisinin de duraklayacağını öngörerek büyüme beklentisini yüzde 0.9'dan yüzde 0.5'e düşürdü.   \\n            \\n\\t\\t\\t\\tSayfada yer alan bilgiler tavsiye niteliği taşımayıp yatırım danışmanlığı kapsamında değildir. Yatırımcı profilinize uymayabilir.\\n   \n",
       "13559                                                                                IMF Euro Bölgesi büyüme öngörüsünü altı yılın en düşük düzeyine çekti\\nUluslararası Para Fonu (IMF), Bölgesel Ekonomik Görünüm raporunda Euro Bölgesi gayrisafi yurt içi hasılasının son altı yılın en düşük büyüme hızına gerileyerek, 2019 yılında yüzde 0.1 düşüşle yüzde 1.2 düzeyinde gerçekleşeceğini öngördü.\\nUluslararası Para Fonu (IMF), Bölgesel Ekonomik Görünüm raporunda Euro Bölgesi gayrisafi yurt içi hasılasının son altı yılın en düşük büyüme hızına gerileyerek, 2019 yılında yüzde 0.1 düşüşle yüzde 1.2 düzeyinde gerçekleşeceğini öngördü. Euro Bölgesi için 2020 ve 2021 yılına ilişkin büyüme tahminlerini yüzde 1.5'ten yüzde 1.4'e düşüren IMF, düşüşün nedeni olarak Almanya ve İtalya ekonomilerinde görülen zayıflamayı gösterdi.\\nIMF, 19 ülkeden oluşan Euro Bölgesi'nin bu yıl için büyüme öngörüsünü, daha önceki yüzde 1.3 düzeyinden yüzde 1.2'ye revize etti. Euro Bölgesi'nin 2018 büyümesi yüzde 1.9 düzeyindeydi.Almanya ve İtalya için önceki büyüme tahminlerini revize eden IMF, yavaşlamanın çoğunlukla euro bölgesinin en büyük ekonomisi Almanya'daki zayıf büyüme ve üçüncü büyük ekonomisi İtalya'daki durgunluktan kaynaklandığını ifade etti.IMF Almanya ekonomisindeki büyüme beklentisini Nisan ayı tahmini olan yüzde 0.8'den yüzde 0.5'e ve İtalyan ekonomisinin de duraklayacağını öngörerek büyüme beklentisini yüzde 0.9'dan yüzde 0.5'e düşürdü.   \\n\\n\\nKaynak: DHA\\n   \n",
       "13566  IMF Euro Bölgesi büyüme öngörüsünü altı yılın en düşük düzeyine çekti\\n\\nHaber\\n\\t\\t\\t\\t\\n\\t\\t\\t\\t\\n\\t\\t\\t\\t\\n\\t\\t\\t\\n\\t\\t\\n\\t\\t\\n      \\n\\t\\n    \\n  \\n\\n\\n\\n\\n  \\n    IMF Euro Bölgesi büyüme öngörüsünü altı yılın en düşük düzeyine çekti\\n  \\n  \\n    \\n\\n\\n\\n    \\n    Uluslararası Para Fonu (IMF), Bölgesel Ekonomik Görünüm raporunda Euro Bölgesi gayrisafi yurt içi hasılasının son altı yılın en düşük büyüme hızına gerileyerek, 2019 yılında yüzde 0.1 düşüşle yüzde 1.2 düzeyinde gerçekleşeceğini öngördü.\\n      \\n    \\n    \\n    \\n    \\n  \\n  \\n     \\n\\n  \\n\\n\\n\\n\\n\\n\\n\\n\\n\\n\\n\\n\\n\\n\\n\\n    \\n    \\n\\n\\n  \\n    \\n  \\n\\n\\n\\n\\n\\n\\n\\n\\n\\n\\n\\n\\n\\n\\n\\n\\n\\n\\n\\n\\n\\n\\n\\n\\n\\n\\n\\n\\n\\n\\n\\n\\n\\n\\n\\n\\n\\n\\n\\n\\n\\n\\n\\n\\n\\n\\n\\n\\n\\n\\n\\n\\n\\n\\n\\n\\n\\n\\n\\n\\n    \\n  \\n\\n\\n \\n  \\n \\n  \\n    \\n  \\n\\t\\n    \\n  \\n  \\n    \\n    \\n  \\n  \\n    \\n  \\n  \\n    \\n    \\n  \\n  \\n    \\n  \\n  \\n    \\n  \\n  \\n    \\n  \\n  \\n    \\n  \\n  \\n    \\n  \\n  \\n    \\n  \\n  \\n    \\n  \\n  \\n    \\n  \\n  \\n    \\n  \\n  \\n    \\n  \\n  \\n    \\n  \\n  \\n    \\n  \\n  \\n    \\n  \\n  \\n    \\n  \\n    \\n    \\n  \\n  \\n    \\n  \\n\\t\\n    \\n  \\n  \\n    \\n  \\n\\n\\n \\n  \\n    IMF Euro Bölgesi büyüme öngörüsünü altı yılın en düşük düzeyine çekti\\n  \\n  \\n    \\n\\n\\n\\n    \\n    Uluslararası Para Fonu (IMF), Bölgesel Ekonomik Görünüm raporunda Euro Bölgesi gayrisafi yurt içi hasılasının son altı yılın en düşük büyüme hızına gerileyerek, 2019 yılında yüzde 0.1 düşüşle yüzde 1.2 düzeyinde gerçekleşeceğini öngördü.\\n   \n",
       "13894                                                                                                     IMF Euro Bölgesi büyüme öngörüsünü altı yılın en düşük düzeyine çekti\\nUluslararası Para Fonu (IMF), Bölgesel Ekonomik Görünüm raporunda Euro Bölgesi gayrisafi yurt içi hasılasının son altı yılın en düşük büyüme hızına gerileyerek, 2019 yılında yüzde 0.1 düşüşle yüzde 1.2 düzeyinde gerçekleşeceğini...\\nUluslararası Para Fonu (IMF), Bölgesel Ekonomik Görünüm raporunda Euro Bölgesi gayrisafi yurt içi hasılasının son altı yılın en düşük büyüme hızına gerileyerek, 2019 yılında yüzde 0.1 düşüşle yüzde 1.2 düzeyinde gerçekleşeceğini öngördü.\\nEuro Bölgesi için 2020 ve 2021 yılına ilişkin büyüme tahminlerini yüzde 1.5'ten yüzde 1.4'e düşüren IMF, düşüşün nedeni olarak Almanya ve İtalya ekonomilerinde görülen zayıflamayı gösterdi.\\nIMF, 19 ülkeden oluşan Euro Bölgesi'nin bu yıl için büyüme öngörüsünü, daha önceki yüzde 1.3 düzeyinden yüzde 1.2'ye revize etti. Euro Bölgesi'nin 2018 büyümesi yüzde 1.9 düzeyindeydi.\\nAlmanya ve İtalya için önceki büyüme tahminlerini revize eden IMF, yavaşlamanın çoğunlukla euro bölgesinin en büyük ekonomisi Almanya'daki zayıf büyüme ve üçüncü büyük ekonomisi İtalya'daki durgunluktan kaynaklandığını ifade etti.\\nIMF Almanya ekonomisindeki büyüme beklentisini Nisan ayı tahmini olan yüzde 0.8'den yüzde 0.5'e ve İtalyan ekonomisinin de duraklayacağını öngörerek büyüme beklentisini yüzde 0.9'dan yüzde 0.5'e düşürdü.\\n   \n",
       "...                                                                                                                                                                                                                                                                                                                                                                                                                                                                                                                                                                                                                                                                                                                                                                                                                                                                                                                                                                                                                                                                                                                                                                                                                                                                                                                                                                                                                                                                                                                 ...   \n",
       "17142                                                                                                                                                                                                                                                                                                                                                                                                                                                                  Bakan Albayrak'tan, dar gelirlilere konut müjdesi...\\nHazine ve Maliye Bakanı Berat Albayrak, \"20 yıl vade ve en düşük faiz oranıyla ev sahibi yapacak altyapıyı tamamladık.\" dedi.\\nHazine ve Maliye Bakanı Berat Albayrak, Samsun'da İş Dünyası ile Buluşma programında konuştu.\\n\\n   Albayrak'ın konuşmasından öne çıkanlar şöyle: \\n\\n- Çok tarihi bir süreçten güçlenerek çıktık.\\n\\n- Ekim ayı itibarıyla TÜFE'de 8,55, ÜFE'de 1,70 seviyelerine inerek hakikaten çok tarihi bir netice ortaya koyduk.\\n\\n- Asgari ücretli ve dar gelirli vatandaşlarımızı ev sahibi yapacak bir modeli hayata geçiriyoruz. 20 yıl vadeyle, tarihin en düşük faiz oranı ile, kira öder gibi ev sahibi olacaklar. TOKİ’nin de içinde yer alacağı ve her yıl en az 100 bin vatandaşımızı ev sahibi yapacak bu modelin tüm ayrıntılarını; evlerin modellerini, şehirleri, uygulama şartlarını Sayın Cumhurbaşkanımız özel bir programla vatandaşlarımızla paylaşacak. Bunlar inşallah başlangıç. İnşallah çok daha güçlü müjdeleri vermeye devam edeceğiz.\\n   \n",
       "40015                                                                                                                       Berat Albayrak: Asgari ücretli vatandaşlarımızı ev sahibi yapacak bir modelin finansman altyapısını tamamladık\\n\\nHazine ve Maliye Bakanı Berat Albayrak, 'Türkiye İçin Değişim Başlıyor' programında konuştu.\\n                \\n                \\n                \\n\\tAlbayrak'ın açıklamalarından satır başları şöyle:\\n\\n\\t\"- Ekim ayı itibarıyla TÜFE'de 8.55, ÜFE'de 1.70 seviyelerine inerek hakikaten çok tarihi bir netice ortaya koyduk.\\n\\n\\t- 15 aylık olağanüstü dönemi tahminlerden az hasarla geride bıraktık.\\n\\n\\t- 3. çeyreğe ilişkin öncü göstergeler toparlanma eğiliminin güçlendiğini gösteriyor.\\n\\n\\t- Bu yıl 82.3 ton altını piyasaya kazandırdık.\\n\\n\\t- Yılı pozitif büyümeyle kapatacağız.\\n\\n\\t- Asgari ücretli, dar gelirli vatandaşlarımızı ev sahibi yapacak bir modelin finansman altyapısını tamamladık. 20 yıl vadeyle ve bugüne kadar Türkiye'de uygulanmış tarihin en düşük faiz oranı ile kira öder gibi ev sahibi olacaklar. TOKİ'nin de içinde yer alacağı, her yıl en az 100 bin vatandaşımızı ev sahibi yapacak bu modelin tüm ayrıntılarını, evlerin modellerini, şehirleri, uygulama şartlarını bu ay bitmeden Sayın Cumhurbaşkanımız önderliğinde özel bir programla vatandaşlarımıza anlatacağız.\"\\n                \\n                \\n                \\n                \\n                \\n                \\n                ETİKETLER :\\n   \n",
       "313                                                                                                                                                                                                                                                                                                                                                                                                                                                                                                                                                                                                                                                                                                                                                                                                                                                                                                                                                                                                                                  Dar gelirlilere konut müjdesi\\nHazine ve Maliye Bakanı Berat Albayrak, \"20 yıl vade, en düşük faiz oranıyla ev sahibi yapacak altyapıyı tamamladık.\" dedi.\\nHazine ve Maliye Bakanı Berat Albayrak, Samsun'da İş Dünyası ile Buluşma programında konuşuyor.\\n\\n\\tAlbayrak'ın konuşmasından öne çıkanlar şöyle: \\n\\n\\t- Çok tarihi bir süreçten güçlenerek çıktık.\\n\\n\\t- 20 yıl vade, en düşük faiz oranıyla ev sahibi yapacak altyapıyı tamamladık. \\n\\n\\tAyrıntılar geliyor...\\n   \n",
       "959                                                                                                                                                                                                                                                                                                                                                                                                                                                               Dar gelirlilere konut müjdesi\\nHazine ve Maliye Bakanı Berat Albayrak, \"20 yıl vade ve en düşük faiz oranıyla ev sahibi yapacak altyapıyı tamamladık.\" dedi.\\nHazine ve Maliye Bakanı Berat Albayrak, Samsun'da İş Dünyası ile Buluşma programında konuştu.\\n\\n\\tAlbayrak'ın konuşmasından öne çıkanlar şöyle: \\n\\n\\t- Çok tarihi bir süreçten güçlenerek çıktık.\\n\\n\\t- Ekim ayı itibarıyla TÜFE'de 8,55, ÜFE'de 1,70 seviyelerine inerek hakikaten çok tarihi bir netice ortaya koyduk.\\n\\n\\t- Asgari ücretli ve dar gelirli vatandaşlarımızı ev sahibi yapacak bir modeli hayata geçiriyoruz. 20 yıl vadeyle, tarihin en düşük faiz oranı ile, kira öder gibi ev sahibi olacaklar. TOKİ’nin de içinde yer alacağı ve her yıl en az 100 bin vatandaşımızı ev sahibi yapacak bu modelin tüm ayrıntılarını; evlerin modellerini, şehirleri, uygulama şartlarını Sayın Cumhurbaşkanımız özel bir programla vatandaşlarımızla paylaşacak. Bunlar inşallah başlangıç. İnşallah çok daha güçlü müjdeleri vermeye devam edeceğiz.\\n\\n\\tKaynak: TRT Haber\\n   \n",
       "3986                                                                                                                                                                                                                                                                                                                                                                                                                                           Dar gelirlilere konut müjdesi\\nHazine ve Maliye Bakanı Berat Albayrak, \"20 yıl vade ve en düşük faiz oranıyla ev sahibi yapacak altyapıyı tamamladık.\" dedi.\\n07 Kasım 2019 11:07 \\n\\tHazine ve Maliye Bakanı Berat Albayrak, Samsun'da İş Dünyası ile Buluşma programında konuştu. \\n\\tAlbayrak'ın konuşmasından öne çıkanlar şöyle:  \\n\\t- Çok tarihi bir süreçten güçlenerek çıktık. \\n\\t- Ekim ayı itibarıyla TÜFE'de 8,55, ÜFE'de 1,70 seviyelerine inerek hakikaten çok tarihi bir netice ortaya koyduk. \\n\\t- Asgari ücretli ve dar gelirli vatandaşlarımızı ev sahibi yapacak bir modeli hayata geçiriyoruz. 20 yıl vadeyle, tarihin en düşük faiz oranı ile, kira öder gibi ev sahibi olacaklar. TOKİ’nin de içinde yer alacağı ve her yıl en az 100 bin vatandaşımızı ev sahibi yapacak bu modelin tüm ayrıntılarını; evlerin modellerini, şehirleri, uygulama şartlarını Sayın Cumhurbaşkanımız özel bir programla vatandaşlarımızla paylaşacak. Bunlar inşallah başlangıç. İnşallah çok daha güçlü müjdeleri vermeye devam edeceğiz. \\n\\tKaynak: TRT Haber\\n   \n",
       "\n",
       "       DocumentTypeID          ID                        OldClusterUuID  \\\n",
       "14053               8  1482482922  5e7118e0-4720-4437-b417-c497ef237e5d   \n",
       "14148               8  1482483155  5e7118e0-4720-4437-b417-c497ef237e5d   \n",
       "13559               8  1482481178  5e7118e0-4720-4437-b417-c497ef237e5d   \n",
       "13566               8  1482481205  5e7118e0-4720-4437-b417-c497ef237e5d   \n",
       "13894               8  1482482419  5e7118e0-4720-4437-b417-c497ef237e5d   \n",
       "...               ...         ...                                   ...   \n",
       "17142               8  1482549614  062fb6cd-8efb-4ac4-a641-d4404908a865   \n",
       "40015               8  1482544810  062fb6cd-8efb-4ac4-a641-d4404908a865   \n",
       "313                 8  1482507719  062fb6cd-8efb-4ac4-a641-d4404908a865   \n",
       "959                 8  1482509243  062fb6cd-8efb-4ac4-a641-d4404908a865   \n",
       "3986                8  1482515204  062fb6cd-8efb-4ac4-a641-d4404908a865   \n",
       "\n",
       "       SimilarityDocID  SimilarityScore  \\\n",
       "14053                0             0.00   \n",
       "14148       1482482922            99.35   \n",
       "13559       1482486270           100.00   \n",
       "13566       1482488957            98.92   \n",
       "13894       1482486270           100.00   \n",
       "...                ...              ...   \n",
       "17142       1482517188            96.18   \n",
       "40015       1482532812            91.13   \n",
       "313         1482520146            95.00   \n",
       "959         1482520146           100.00   \n",
       "3986        1482526347           100.00   \n",
       "\n",
       "                                                                                                                Title  \\\n",
       "14053                                                            Euro Bölgesi büyüme öngörüsü altı yılın en düşüğünde   \n",
       "14148                                                            Euro Bölgesi büyüme öngörüsü altı yılın en düşüğünde   \n",
       "13559                                           IMF Euro Bölgesi büyüme öngörüsünü altı yılın en düşük düzeyine çekti   \n",
       "13566                                           IMF Euro Bölgesi büyüme öngörüsünü altı yılın en düşük düzeyine çekti   \n",
       "13894                                           IMF Euro Bölgesi büyüme öngörüsünü altı yılın en düşük düzeyine çekti   \n",
       "...                                                                                                               ...   \n",
       "17142                                                            Bakan Albayrak'tan, dar gelirlilere konut müjdesi...   \n",
       "40015  Berat Albayrak: Asgari ücretli vatandaşlarımızı ev sahibi yapacak bir modelin finansman altyapısını tamamladık   \n",
       "313                                                                                     Dar gelirlilere konut müjdesi   \n",
       "959                                                                                     Dar gelirlilere konut müjdesi   \n",
       "3986                                                                                    Dar gelirlilere konut müjdesi   \n",
       "\n",
       "                 UpdateDate  \n",
       "14053  2020-01-12T12:27:02Z  \n",
       "14148  2020-01-12T12:32:18Z  \n",
       "13559  2020-01-12T15:45:26Z  \n",
       "13566  2020-01-12T15:45:49Z  \n",
       "13894  2020-01-12T16:06:11Z  \n",
       "...                     ...  \n",
       "17142  2020-01-12T13:17:28Z  \n",
       "40015  2020-01-12T14:44:59Z  \n",
       "313    2020-01-12T15:25:41Z  \n",
       "959    2020-01-12T16:05:23Z  \n",
       "3986   2020-01-12T15:07:58Z  \n",
       "\n",
       "[978 rows x 10 columns]"
      ],
      "text/html": "<div>\n<style scoped>\n    .dataframe tbody tr th:only-of-type {\n        vertical-align: middle;\n    }\n\n    .dataframe tbody tr th {\n        vertical-align: top;\n    }\n\n    .dataframe thead th {\n        text-align: right;\n    }\n</style>\n<table border=\"1\" class=\"dataframe\">\n  <thead>\n    <tr style=\"text-align: right;\">\n      <th></th>\n      <th>ClusterCalcTime</th>\n      <th>ClusterUuID</th>\n      <th>Content</th>\n      <th>DocumentTypeID</th>\n      <th>ID</th>\n      <th>OldClusterUuID</th>\n      <th>SimilarityDocID</th>\n      <th>SimilarityScore</th>\n      <th>Title</th>\n      <th>UpdateDate</th>\n    </tr>\n  </thead>\n  <tbody>\n    <tr>\n      <th>14053</th>\n      <td>1161</td>\n      <td>06f05f39-0ff9-4e60-ae16-d7401ffec0d3</td>\n      <td>Euro Bölgesi büyüme öngörüsü altı yılın en düşüğünde\\nIMF Euro Bölgesi büyüme öngörüsünü altı yılın en düşük düzeyine çekti\\nUluslararası Para Fonu (IMF), Bölgesel Ekonomik Görünüm raporunda Euro Bölgesi gayrisafi yurt içi hasılasının son altı yılın en düşük büyüme hızına gerileyerek, 2019 yılında yüzde 0.1 düşüşle yüzde 1.2 düzeyinde gerçekleşeceğini öngördü.\\nEuro Bölgesi için 2020 ve 2021 yılına ilişkin büyüme tahminlerini yüzde 1.5'ten yüzde 1.4'e düşüren IMF, düşüşün nedeni olarak Almanya ve İtalya ekonomilerinde görülen zayıflamayı gösterdi.IMF, 19 ülkeden oluşan Euro Bölgesi'nin bu yıl için büyüme öngörüsünü, daha önceki yüzde 1.3 düzeyinden yüzde 1.2'ye revize etti. Euro Bölgesi'nin 2018 büyümesi yüzde 1.9 düzeyindeydi.\\nAlmanya ve İtalya için önceki büyüme tahminlerini revize eden IMF, yavaşlamanın çoğunlukla euro bölgesinin en büyük ekonomisi Almanya'daki zayıf büyüme ve üçüncü büyük ekonomisi İtalya'daki durgunluktan kaynaklandığını ifade etti.\\nIMF Almanya ekonomisindeki büyüme beklentisini Nisan ayı tahmini olan yüzde 0.8'den yüzde 0.5'e ve İtalyan ekonomisinin de duraklayacağını öngörerek büyüme beklentisini yüzde 0.9'dan yüzde 0.5'e düşürdü.\\nETİKETLER :\\n                \\n                                        IMF\\n                                        euro bölgesi</td>\n      <td>8</td>\n      <td>1482482922</td>\n      <td>5e7118e0-4720-4437-b417-c497ef237e5d</td>\n      <td>0</td>\n      <td>0.00</td>\n      <td>Euro Bölgesi büyüme öngörüsü altı yılın en düşüğünde</td>\n      <td>2020-01-12T12:27:02Z</td>\n    </tr>\n    <tr>\n      <th>14148</th>\n      <td>1298</td>\n      <td>06f05f39-0ff9-4e60-ae16-d7401ffec0d3</td>\n      <td>Euro Bölgesi büyüme öngörüsü altı yılın en düşüğünde\\nIMF Euro Bölgesi büyüme öngörüsünü altı yılın en düşük düzeyine çekti\\nUluslararası Para Fonu (IMF), Bölgesel Ekonomik Görünüm raporunda Euro Bölgesi gayrisafi yurt içi hasılasının son altı yılın en düşük büyüme hızına gerileyerek, 2019 yılında yüzde 0.1 düşüşle yüzde 1.2 düzeyinde gerçekleşeceğini öngördü.  Euro Bölgesi için 2020 ve 2021 yılına ilişkin büyüme tahminlerini yüzde 1.5'ten yüzde 1.4'e düşüren IMF, düşüşün nedeni olarak Almanya ve İtalya ekonomilerinde görülen zayıflamayı gösterdi. IMF, 19 ülkeden oluşan Euro Bölgesi'nin bu yıl için büyüme öngörüsünü, daha önceki yüzde 1.3 düzeyinden yüzde 1.2'ye revize etti. Euro Bölgesi'nin 2018 büyümesi yüzde 1.9 düzeyindeydi.  Almanya ve İtalya için önceki büyüme tahminlerini revize eden IMF, yavaşlamanın çoğunlukla euro bölgesinin en büyük ekonomisi Almanya'daki zayıf büyüme ve üçüncü büyük ekonomisi İtalya'daki durgunluktan kaynaklandığını ifade etti.  IMF Almanya ekonomisindeki büyüme beklentisini Nisan ayı tahmini olan yüzde 0.8'den yüzde 0.5'e ve İtalyan ekonomisinin de duraklayacağını öngörerek büyüme beklentisini yüzde 0.9'dan yüzde 0.5'e düşürdü.   \\n            \\n\\t\\t\\t\\tSayfada yer alan bilgiler tavsiye niteliği taşımayıp yatırım danışmanlığı kapsamında değildir. Yatırımcı profilinize uymayabilir.\\n</td>\n      <td>8</td>\n      <td>1482483155</td>\n      <td>5e7118e0-4720-4437-b417-c497ef237e5d</td>\n      <td>1482482922</td>\n      <td>99.35</td>\n      <td>Euro Bölgesi büyüme öngörüsü altı yılın en düşüğünde</td>\n      <td>2020-01-12T12:32:18Z</td>\n    </tr>\n    <tr>\n      <th>13559</th>\n      <td>1000</td>\n      <td>06f05f39-0ff9-4e60-ae16-d7401ffec0d3</td>\n      <td>IMF Euro Bölgesi büyüme öngörüsünü altı yılın en düşük düzeyine çekti\\nUluslararası Para Fonu (IMF), Bölgesel Ekonomik Görünüm raporunda Euro Bölgesi gayrisafi yurt içi hasılasının son altı yılın en düşük büyüme hızına gerileyerek, 2019 yılında yüzde 0.1 düşüşle yüzde 1.2 düzeyinde gerçekleşeceğini öngördü.\\nUluslararası Para Fonu (IMF), Bölgesel Ekonomik Görünüm raporunda Euro Bölgesi gayrisafi yurt içi hasılasının son altı yılın en düşük büyüme hızına gerileyerek, 2019 yılında yüzde 0.1 düşüşle yüzde 1.2 düzeyinde gerçekleşeceğini öngördü. Euro Bölgesi için 2020 ve 2021 yılına ilişkin büyüme tahminlerini yüzde 1.5'ten yüzde 1.4'e düşüren IMF, düşüşün nedeni olarak Almanya ve İtalya ekonomilerinde görülen zayıflamayı gösterdi.\\nIMF, 19 ülkeden oluşan Euro Bölgesi'nin bu yıl için büyüme öngörüsünü, daha önceki yüzde 1.3 düzeyinden yüzde 1.2'ye revize etti. Euro Bölgesi'nin 2018 büyümesi yüzde 1.9 düzeyindeydi.Almanya ve İtalya için önceki büyüme tahminlerini revize eden IMF, yavaşlamanın çoğunlukla euro bölgesinin en büyük ekonomisi Almanya'daki zayıf büyüme ve üçüncü büyük ekonomisi İtalya'daki durgunluktan kaynaklandığını ifade etti.IMF Almanya ekonomisindeki büyüme beklentisini Nisan ayı tahmini olan yüzde 0.8'den yüzde 0.5'e ve İtalyan ekonomisinin de duraklayacağını öngörerek büyüme beklentisini yüzde 0.9'dan yüzde 0.5'e düşürdü.   \\n\\n\\nKaynak: DHA\\n</td>\n      <td>8</td>\n      <td>1482481178</td>\n      <td>5e7118e0-4720-4437-b417-c497ef237e5d</td>\n      <td>1482486270</td>\n      <td>100.00</td>\n      <td>IMF Euro Bölgesi büyüme öngörüsünü altı yılın en düşük düzeyine çekti</td>\n      <td>2020-01-12T15:45:26Z</td>\n    </tr>\n    <tr>\n      <th>13566</th>\n      <td>552</td>\n      <td>06f05f39-0ff9-4e60-ae16-d7401ffec0d3</td>\n      <td>IMF Euro Bölgesi büyüme öngörüsünü altı yılın en düşük düzeyine çekti\\n\\nHaber\\n\\t\\t\\t\\t\\n\\t\\t\\t\\t\\n\\t\\t\\t\\t\\n\\t\\t\\t\\n\\t\\t\\n\\t\\t\\n      \\n\\t\\n    \\n  \\n\\n\\n\\n\\n  \\n    IMF Euro Bölgesi büyüme öngörüsünü altı yılın en düşük düzeyine çekti\\n  \\n  \\n    \\n\\n\\n\\n    \\n    Uluslararası Para Fonu (IMF), Bölgesel Ekonomik Görünüm raporunda Euro Bölgesi gayrisafi yurt içi hasılasının son altı yılın en düşük büyüme hızına gerileyerek, 2019 yılında yüzde 0.1 düşüşle yüzde 1.2 düzeyinde gerçekleşeceğini öngördü.\\n      \\n    \\n    \\n    \\n    \\n  \\n  \\n     \\n\\n  \\n\\n\\n\\n\\n\\n\\n\\n\\n\\n\\n\\n\\n\\n\\n\\n    \\n    \\n\\n\\n  \\n    \\n  \\n\\n\\n\\n\\n\\n\\n\\n\\n\\n\\n\\n\\n\\n\\n\\n\\n\\n\\n\\n\\n\\n\\n\\n\\n\\n\\n\\n\\n\\n\\n\\n\\n\\n\\n\\n\\n\\n\\n\\n\\n\\n\\n\\n\\n\\n\\n\\n\\n\\n\\n\\n\\n\\n\\n\\n\\n\\n\\n\\n\\n    \\n  \\n\\n\\n \\n  \\n \\n  \\n    \\n  \\n\\t\\n    \\n  \\n  \\n    \\n    \\n  \\n  \\n    \\n  \\n  \\n    \\n    \\n  \\n  \\n    \\n  \\n  \\n    \\n  \\n  \\n    \\n  \\n  \\n    \\n  \\n  \\n    \\n  \\n  \\n    \\n  \\n  \\n    \\n  \\n  \\n    \\n  \\n  \\n    \\n  \\n  \\n    \\n  \\n  \\n    \\n  \\n  \\n    \\n  \\n  \\n    \\n  \\n  \\n    \\n  \\n    \\n    \\n  \\n  \\n    \\n  \\n\\t\\n    \\n  \\n  \\n    \\n  \\n\\n\\n \\n  \\n    IMF Euro Bölgesi büyüme öngörüsünü altı yılın en düşük düzeyine çekti\\n  \\n  \\n    \\n\\n\\n\\n    \\n    Uluslararası Para Fonu (IMF), Bölgesel Ekonomik Görünüm raporunda Euro Bölgesi gayrisafi yurt içi hasılasının son altı yılın en düşük büyüme hızına gerileyerek, 2019 yılında yüzde 0.1 düşüşle yüzde 1.2 düzeyinde gerçekleşeceğini öngördü.\\n</td>\n      <td>8</td>\n      <td>1482481205</td>\n      <td>5e7118e0-4720-4437-b417-c497ef237e5d</td>\n      <td>1482488957</td>\n      <td>98.92</td>\n      <td>IMF Euro Bölgesi büyüme öngörüsünü altı yılın en düşük düzeyine çekti</td>\n      <td>2020-01-12T15:45:49Z</td>\n    </tr>\n    <tr>\n      <th>13894</th>\n      <td>1069</td>\n      <td>06f05f39-0ff9-4e60-ae16-d7401ffec0d3</td>\n      <td>IMF Euro Bölgesi büyüme öngörüsünü altı yılın en düşük düzeyine çekti\\nUluslararası Para Fonu (IMF), Bölgesel Ekonomik Görünüm raporunda Euro Bölgesi gayrisafi yurt içi hasılasının son altı yılın en düşük büyüme hızına gerileyerek, 2019 yılında yüzde 0.1 düşüşle yüzde 1.2 düzeyinde gerçekleşeceğini...\\nUluslararası Para Fonu (IMF), Bölgesel Ekonomik Görünüm raporunda Euro Bölgesi gayrisafi yurt içi hasılasının son altı yılın en düşük büyüme hızına gerileyerek, 2019 yılında yüzde 0.1 düşüşle yüzde 1.2 düzeyinde gerçekleşeceğini öngördü.\\nEuro Bölgesi için 2020 ve 2021 yılına ilişkin büyüme tahminlerini yüzde 1.5'ten yüzde 1.4'e düşüren IMF, düşüşün nedeni olarak Almanya ve İtalya ekonomilerinde görülen zayıflamayı gösterdi.\\nIMF, 19 ülkeden oluşan Euro Bölgesi'nin bu yıl için büyüme öngörüsünü, daha önceki yüzde 1.3 düzeyinden yüzde 1.2'ye revize etti. Euro Bölgesi'nin 2018 büyümesi yüzde 1.9 düzeyindeydi.\\nAlmanya ve İtalya için önceki büyüme tahminlerini revize eden IMF, yavaşlamanın çoğunlukla euro bölgesinin en büyük ekonomisi Almanya'daki zayıf büyüme ve üçüncü büyük ekonomisi İtalya'daki durgunluktan kaynaklandığını ifade etti.\\nIMF Almanya ekonomisindeki büyüme beklentisini Nisan ayı tahmini olan yüzde 0.8'den yüzde 0.5'e ve İtalyan ekonomisinin de duraklayacağını öngörerek büyüme beklentisini yüzde 0.9'dan yüzde 0.5'e düşürdü.\\n</td>\n      <td>8</td>\n      <td>1482482419</td>\n      <td>5e7118e0-4720-4437-b417-c497ef237e5d</td>\n      <td>1482486270</td>\n      <td>100.00</td>\n      <td>IMF Euro Bölgesi büyüme öngörüsünü altı yılın en düşük düzeyine çekti</td>\n      <td>2020-01-12T16:06:11Z</td>\n    </tr>\n    <tr>\n      <th>...</th>\n      <td>...</td>\n      <td>...</td>\n      <td>...</td>\n      <td>...</td>\n      <td>...</td>\n      <td>...</td>\n      <td>...</td>\n      <td>...</td>\n      <td>...</td>\n      <td>...</td>\n    </tr>\n    <tr>\n      <th>17142</th>\n      <td>326</td>\n      <td>e95cda04-6d08-46df-9479-b893468e1833</td>\n      <td>Bakan Albayrak'tan, dar gelirlilere konut müjdesi...\\nHazine ve Maliye Bakanı Berat Albayrak, \"20 yıl vade ve en düşük faiz oranıyla ev sahibi yapacak altyapıyı tamamladık.\" dedi.\\nHazine ve Maliye Bakanı Berat Albayrak, Samsun'da İş Dünyası ile Buluşma programında konuştu.\\n\\n   Albayrak'ın konuşmasından öne çıkanlar şöyle: \\n\\n- Çok tarihi bir süreçten güçlenerek çıktık.\\n\\n- Ekim ayı itibarıyla TÜFE'de 8,55, ÜFE'de 1,70 seviyelerine inerek hakikaten çok tarihi bir netice ortaya koyduk.\\n\\n- Asgari ücretli ve dar gelirli vatandaşlarımızı ev sahibi yapacak bir modeli hayata geçiriyoruz. 20 yıl vadeyle, tarihin en düşük faiz oranı ile, kira öder gibi ev sahibi olacaklar. TOKİ’nin de içinde yer alacağı ve her yıl en az 100 bin vatandaşımızı ev sahibi yapacak bu modelin tüm ayrıntılarını; evlerin modellerini, şehirleri, uygulama şartlarını Sayın Cumhurbaşkanımız özel bir programla vatandaşlarımızla paylaşacak. Bunlar inşallah başlangıç. İnşallah çok daha güçlü müjdeleri vermeye devam edeceğiz.\\n</td>\n      <td>8</td>\n      <td>1482549614</td>\n      <td>062fb6cd-8efb-4ac4-a641-d4404908a865</td>\n      <td>1482517188</td>\n      <td>96.18</td>\n      <td>Bakan Albayrak'tan, dar gelirlilere konut müjdesi...</td>\n      <td>2020-01-12T13:17:28Z</td>\n    </tr>\n    <tr>\n      <th>40015</th>\n      <td>435</td>\n      <td>e95cda04-6d08-46df-9479-b893468e1833</td>\n      <td>Berat Albayrak: Asgari ücretli vatandaşlarımızı ev sahibi yapacak bir modelin finansman altyapısını tamamladık\\n\\nHazine ve Maliye Bakanı Berat Albayrak, 'Türkiye İçin Değişim Başlıyor' programında konuştu.\\n                \\n                \\n                \\n\\tAlbayrak'ın açıklamalarından satır başları şöyle:\\n\\n\\t\"- Ekim ayı itibarıyla TÜFE'de 8.55, ÜFE'de 1.70 seviyelerine inerek hakikaten çok tarihi bir netice ortaya koyduk.\\n\\n\\t- 15 aylık olağanüstü dönemi tahminlerden az hasarla geride bıraktık.\\n\\n\\t- 3. çeyreğe ilişkin öncü göstergeler toparlanma eğiliminin güçlendiğini gösteriyor.\\n\\n\\t- Bu yıl 82.3 ton altını piyasaya kazandırdık.\\n\\n\\t- Yılı pozitif büyümeyle kapatacağız.\\n\\n\\t- Asgari ücretli, dar gelirli vatandaşlarımızı ev sahibi yapacak bir modelin finansman altyapısını tamamladık. 20 yıl vadeyle ve bugüne kadar Türkiye'de uygulanmış tarihin en düşük faiz oranı ile kira öder gibi ev sahibi olacaklar. TOKİ'nin de içinde yer alacağı, her yıl en az 100 bin vatandaşımızı ev sahibi yapacak bu modelin tüm ayrıntılarını, evlerin modellerini, şehirleri, uygulama şartlarını bu ay bitmeden Sayın Cumhurbaşkanımız önderliğinde özel bir programla vatandaşlarımıza anlatacağız.\"\\n                \\n                \\n                \\n                \\n                \\n                \\n                ETİKETLER :\\n</td>\n      <td>8</td>\n      <td>1482544810</td>\n      <td>062fb6cd-8efb-4ac4-a641-d4404908a865</td>\n      <td>1482532812</td>\n      <td>91.13</td>\n      <td>Berat Albayrak: Asgari ücretli vatandaşlarımızı ev sahibi yapacak bir modelin finansman altyapısını tamamladık</td>\n      <td>2020-01-12T14:44:59Z</td>\n    </tr>\n    <tr>\n      <th>313</th>\n      <td>742</td>\n      <td>e95cda04-6d08-46df-9479-b893468e1833</td>\n      <td>Dar gelirlilere konut müjdesi\\nHazine ve Maliye Bakanı Berat Albayrak, \"20 yıl vade, en düşük faiz oranıyla ev sahibi yapacak altyapıyı tamamladık.\" dedi.\\nHazine ve Maliye Bakanı Berat Albayrak, Samsun'da İş Dünyası ile Buluşma programında konuşuyor.\\n\\n\\tAlbayrak'ın konuşmasından öne çıkanlar şöyle: \\n\\n\\t- Çok tarihi bir süreçten güçlenerek çıktık.\\n\\n\\t- 20 yıl vade, en düşük faiz oranıyla ev sahibi yapacak altyapıyı tamamladık. \\n\\n\\tAyrıntılar geliyor...\\n</td>\n      <td>8</td>\n      <td>1482507719</td>\n      <td>062fb6cd-8efb-4ac4-a641-d4404908a865</td>\n      <td>1482520146</td>\n      <td>95.00</td>\n      <td>Dar gelirlilere konut müjdesi</td>\n      <td>2020-01-12T15:25:41Z</td>\n    </tr>\n    <tr>\n      <th>959</th>\n      <td>446</td>\n      <td>e95cda04-6d08-46df-9479-b893468e1833</td>\n      <td>Dar gelirlilere konut müjdesi\\nHazine ve Maliye Bakanı Berat Albayrak, \"20 yıl vade ve en düşük faiz oranıyla ev sahibi yapacak altyapıyı tamamladık.\" dedi.\\nHazine ve Maliye Bakanı Berat Albayrak, Samsun'da İş Dünyası ile Buluşma programında konuştu.\\n\\n\\tAlbayrak'ın konuşmasından öne çıkanlar şöyle: \\n\\n\\t- Çok tarihi bir süreçten güçlenerek çıktık.\\n\\n\\t- Ekim ayı itibarıyla TÜFE'de 8,55, ÜFE'de 1,70 seviyelerine inerek hakikaten çok tarihi bir netice ortaya koyduk.\\n\\n\\t- Asgari ücretli ve dar gelirli vatandaşlarımızı ev sahibi yapacak bir modeli hayata geçiriyoruz. 20 yıl vadeyle, tarihin en düşük faiz oranı ile, kira öder gibi ev sahibi olacaklar. TOKİ’nin de içinde yer alacağı ve her yıl en az 100 bin vatandaşımızı ev sahibi yapacak bu modelin tüm ayrıntılarını; evlerin modellerini, şehirleri, uygulama şartlarını Sayın Cumhurbaşkanımız özel bir programla vatandaşlarımızla paylaşacak. Bunlar inşallah başlangıç. İnşallah çok daha güçlü müjdeleri vermeye devam edeceğiz.\\n\\n\\tKaynak: TRT Haber\\n</td>\n      <td>8</td>\n      <td>1482509243</td>\n      <td>062fb6cd-8efb-4ac4-a641-d4404908a865</td>\n      <td>1482520146</td>\n      <td>100.00</td>\n      <td>Dar gelirlilere konut müjdesi</td>\n      <td>2020-01-12T16:05:23Z</td>\n    </tr>\n    <tr>\n      <th>3986</th>\n      <td>388</td>\n      <td>e95cda04-6d08-46df-9479-b893468e1833</td>\n      <td>Dar gelirlilere konut müjdesi\\nHazine ve Maliye Bakanı Berat Albayrak, \"20 yıl vade ve en düşük faiz oranıyla ev sahibi yapacak altyapıyı tamamladık.\" dedi.\\n07 Kasım 2019 11:07 \\n\\tHazine ve Maliye Bakanı Berat Albayrak, Samsun'da İş Dünyası ile Buluşma programında konuştu. \\n\\tAlbayrak'ın konuşmasından öne çıkanlar şöyle:  \\n\\t- Çok tarihi bir süreçten güçlenerek çıktık. \\n\\t- Ekim ayı itibarıyla TÜFE'de 8,55, ÜFE'de 1,70 seviyelerine inerek hakikaten çok tarihi bir netice ortaya koyduk. \\n\\t- Asgari ücretli ve dar gelirli vatandaşlarımızı ev sahibi yapacak bir modeli hayata geçiriyoruz. 20 yıl vadeyle, tarihin en düşük faiz oranı ile, kira öder gibi ev sahibi olacaklar. TOKİ’nin de içinde yer alacağı ve her yıl en az 100 bin vatandaşımızı ev sahibi yapacak bu modelin tüm ayrıntılarını; evlerin modellerini, şehirleri, uygulama şartlarını Sayın Cumhurbaşkanımız özel bir programla vatandaşlarımızla paylaşacak. Bunlar inşallah başlangıç. İnşallah çok daha güçlü müjdeleri vermeye devam edeceğiz. \\n\\tKaynak: TRT Haber\\n</td>\n      <td>8</td>\n      <td>1482515204</td>\n      <td>062fb6cd-8efb-4ac4-a641-d4404908a865</td>\n      <td>1482526347</td>\n      <td>100.00</td>\n      <td>Dar gelirlilere konut müjdesi</td>\n      <td>2020-01-12T15:07:58Z</td>\n    </tr>\n  </tbody>\n</table>\n<p>978 rows × 10 columns</p>\n</div>"
     },
     "metadata": {},
     "execution_count": 16
    }
   ],
   "source": [
    "#Test verisetinden bana gelen veriler.\n",
    "#Test verileri ile çeşitli veriler arasında karşılaştırmalar yapıldı.\n",
    "#Bu karşılaştırmalardan birkaçı aşağıdaki gibidir.\n",
    "df_test2 = pd.read_pickle('./clustered_test_40300_all_group.pkl')\n",
    "#df_test2 = df_test2.drop(df.columns[[0,3,4,5,6,7,8,9]], axis=1)\n",
    "df_test2.head(-20)"
   ]
  },
  {
   "cell_type": "code",
   "execution_count": 17,
   "metadata": {},
   "outputs": [
    {
     "output_type": "stream",
     "name": "stdout",
     "text": [
      "Haber 0: \nadalet kalkınma\nadalet kalkınma partisi\nalana gidiyoruz\nalana gidiyoruz emeklilerle\naldıkları emekli\naldıkları emekli ikramiyesi\nalmalarını\nalmalarını sağlamak\nalmalarını sağlamak komisyonda\naltını çizen\n \nHaber 1: \nalbayrak\nsahibi\nenflasyon\nkısmı\nolacak\nenflasyon olacak\nenflasyon olacak başlangıç\nolacak başlangıç\nyılda\nbirileri\n \nHaber 2: \nyüzde\nendeksi\nendeksi yüzde\nborsa\nbist endeksi\nyükselişle\ngüne\ngüne yükselişle\nyükselişle başladı\nbankacılık\n \nHaber 3: \nyatırım\ncom\nhttp\nburada alan\nyorum\nmücadele\nalan\nforeks\nburada\nşekilde\n \n"
     ]
    }
   ],
   "source": [
    "from sklearn.utils.extmath import randomized_svd\n",
    "U, Sigma, VT = randomized_svd(XXX, n_components=4, n_iter=100,\n",
    "                              random_state=122)\n",
    "\n",
    "for i, comp in enumerate(VT):\n",
    "    terms_comp = zip(terms, comp)\n",
    "    sorted_terms = sorted(terms_comp, key= lambda x:x[1], reverse=False)[:10]\n",
    "    print(\"Haber \"+str(i)+\": \")\n",
    "    for t in sorted_terms:\n",
    "        print(t[0])\n",
    "    print(\" \")"
   ]
  },
  {
   "cell_type": "code",
   "execution_count": null,
   "metadata": {},
   "outputs": [],
   "source": []
  }
 ]
}