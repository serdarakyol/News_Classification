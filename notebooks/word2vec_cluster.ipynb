{
 "cells": [
  {
   "cell_type": "code",
   "execution_count": null,
   "metadata": {},
   "outputs": [],
   "source": [
    "\"\"\"  \n",
    "copyright 6 December 2020\n",
    "     Serdar AKYOL\n",
    "\"\"\""
   ]
  },
  {
   "cell_type": "code",
   "execution_count": 1,
   "metadata": {},
   "outputs": [],
   "source": [
    "import pandas as pd\n",
    "import numpy as np\n",
    "import gensim\n",
    "import re\n",
    "import nltk"
   ]
  },
  {
   "cell_type": "code",
   "execution_count": 2,
   "metadata": {},
   "outputs": [
    {
     "data": {
      "text/html": [
       "<div>\n",
       "<style scoped>\n",
       "    .dataframe tbody tr th:only-of-type {\n",
       "        vertical-align: middle;\n",
       "    }\n",
       "\n",
       "    .dataframe tbody tr th {\n",
       "        vertical-align: top;\n",
       "    }\n",
       "\n",
       "    .dataframe thead th {\n",
       "        text-align: right;\n",
       "    }\n",
       "</style>\n",
       "<table border=\"1\" class=\"dataframe\">\n",
       "  <thead>\n",
       "    <tr style=\"text-align: right;\">\n",
       "      <th></th>\n",
       "      <th>Content</th>\n",
       "    </tr>\n",
       "  </thead>\n",
       "  <tbody>\n",
       "    <tr>\n",
       "      <th>14053</th>\n",
       "      <td>Euro Bölgesi büyüme öngörüsü altı yılın en düşüğünde\\nIMF Euro Bölgesi büyüme öngörüsünü altı yılın en düşük düzeyine çekti\\nUluslararası Para Fonu (IMF), Bölgesel Ekonomik Görünüm raporunda Euro Bölgesi gayrisafi yurt içi hasılasının son altı yılın en düşük büyüme hızına gerileyerek, 2019 yılında yüzde 0.1 düşüşle yüzde 1.2 düzeyinde gerçekleşeceğini öngördü.\\nEuro Bölgesi için 2020 ve 2021 yılına ilişkin büyüme tahminlerini yüzde 1.5'ten yüzde 1.4'e düşüren IMF, düşüşün nedeni olarak Almanya ve İtalya ekonomilerinde görülen zayıflamayı gösterdi.IMF, 19 ülkeden oluşan Euro Bölgesi'nin bu yıl için büyüme öngörüsünü, daha önceki yüzde 1.3 düzeyinden yüzde 1.2'ye revize etti. Euro Bölgesi'nin 2018 büyümesi yüzde 1.9 düzeyindeydi.\\nAlmanya ve İtalya için önceki büyüme tahminlerini revize eden IMF, yavaşlamanın çoğunlukla euro bölgesinin en büyük ekonomisi Almanya'daki zayıf büyüme ve üçüncü büyük ekonomisi İtalya'daki durgunluktan kaynaklandığını ifade etti.\\nIMF Almanya ekonomisindeki büyüme beklentisini Nisan ayı tahmini olan yüzde 0.8'den yüzde 0.5'e ve İtalyan ekonomisinin de duraklayacağını öngörerek büyüme beklentisini yüzde 0.9'dan yüzde 0.5'e düşürdü.\\nETİKETLER :\\n                \\n                                        IMF\\n                                        euro bölgesi</td>\n",
       "    </tr>\n",
       "  </tbody>\n",
       "</table>\n",
       "</div>"
      ],
      "text/plain": [
       "                                                                                                                                                                                                                                                                                                                                                                                                                                                                                                                                                                                                                                                                                                                                                                                                                                                                                                                                                                                                                                                                                                                                                                                                                                                                                                                                                        Content\n",
       "14053  Euro Bölgesi büyüme öngörüsü altı yılın en düşüğünde\\nIMF Euro Bölgesi büyüme öngörüsünü altı yılın en düşük düzeyine çekti\\nUluslararası Para Fonu (IMF), Bölgesel Ekonomik Görünüm raporunda Euro Bölgesi gayrisafi yurt içi hasılasının son altı yılın en düşük büyüme hızına gerileyerek, 2019 yılında yüzde 0.1 düşüşle yüzde 1.2 düzeyinde gerçekleşeceğini öngördü.\\nEuro Bölgesi için 2020 ve 2021 yılına ilişkin büyüme tahminlerini yüzde 1.5'ten yüzde 1.4'e düşüren IMF, düşüşün nedeni olarak Almanya ve İtalya ekonomilerinde görülen zayıflamayı gösterdi.IMF, 19 ülkeden oluşan Euro Bölgesi'nin bu yıl için büyüme öngörüsünü, daha önceki yüzde 1.3 düzeyinden yüzde 1.2'ye revize etti. Euro Bölgesi'nin 2018 büyümesi yüzde 1.9 düzeyindeydi.\\nAlmanya ve İtalya için önceki büyüme tahminlerini revize eden IMF, yavaşlamanın çoğunlukla euro bölgesinin en büyük ekonomisi Almanya'daki zayıf büyüme ve üçüncü büyük ekonomisi İtalya'daki durgunluktan kaynaklandığını ifade etti.\\nIMF Almanya ekonomisindeki büyüme beklentisini Nisan ayı tahmini olan yüzde 0.8'den yüzde 0.5'e ve İtalyan ekonomisinin de duraklayacağını öngörerek büyüme beklentisini yüzde 0.9'dan yüzde 0.5'e düşürdü.\\nETİKETLER :\\n                \\n                                        IMF\\n                                        euro bölgesi"
      ]
     },
     "execution_count": 2,
     "metadata": {},
     "output_type": "execute_result"
    }
   ],
   "source": [
    "def load_dataset(path):\n",
    "    df = pd.read_pickle(path)\n",
    "    df = df.drop(df.columns[[1,2,4,5,3]], axis=1)\n",
    "    pd.set_option('max_colwidth', None)\n",
    "    return df\n",
    "df = load_dataset(r'/home/ak/Desktop/clustered_test_datasets/clustered_test/clustered_test_998_group_4.pkl')\n",
    "df.head(1)"
   ]
  },
  {
   "cell_type": "code",
   "execution_count": 3,
   "metadata": {},
   "outputs": [],
   "source": [
    "myRegex = '!\"#$%&\\'()*+,-/:.;<=>?@[\\\\]^_`{|}~'\n",
    "stop_word_list = nltk.corpus.stopwords.words('turkish')\n",
    "\n",
    "#  Clean dataset\n",
    "def clean_text(text):\n",
    "    text = text.lower()\n",
    "    text = re.sub('\\[*?\\]', ' ', text)\n",
    "    text = re.sub('[%s]' % re.escape(myRegex), ' ', text)\n",
    "    text = re.sub('\\w*\\d\\w*', '', text)\n",
    "    text = re.sub('[‘’“”…]', ' ', text)\n",
    "    text = re.sub('\\t', '', text)\n",
    "    text = re.sub('\\n', '', text)\n",
    "    word_tokens = nltk.word_tokenize(text)\n",
    "    filtered_sentences = [w for w in word_tokens if not w in stop_word_list if len(w) > 1]\n",
    "\n",
    "    text = ' '.join(filtered_sentences)\n",
    "    return text\n",
    "\n",
    "clean_first_step = lambda x: clean_text(x)\n",
    "df_list = df['Content'].values.tolist()\n",
    "cleaned_list = []\n",
    "for news in df_list:\n",
    "    cleaned_list.append(clean_text(news))\n",
    "\n",
    "#  convert list of string to list of list\n",
    "cleaned_list_of_list = [news.strip(\"[]\").split(\" \") for news in cleaned_list]"
   ]
  },
  {
   "cell_type": "code",
   "execution_count": 4,
   "metadata": {},
   "outputs": [],
   "source": [
    "#  delete unnecessary variables\n",
    "del df, df_list, stop_word_list, myRegex, news"
   ]
  },
  {
   "cell_type": "code",
   "execution_count": 5,
   "metadata": {},
   "outputs": [],
   "source": [
    "def load_model(path):\n",
    "    return gensim.models.Word2Vec.load(path)\n",
    "model = load_model(r'../data/word2vec_corpus_big_v0.1/corpus_big.w2v')\n",
    "#  w2v_vectors = model.wv.vectors #  load vectors for each word in the model\n",
    "#  w2v_indices = {word: model.wv.vocab[word].index for word in model.wv.vocab} #  load indices for each word in the model"
   ]
  },
  {
   "cell_type": "code",
   "execution_count": 6,
   "metadata": {
    "tags": []
   },
   "outputs": [],
   "source": [
    "#  get average of every news\n",
    "def get_average (news):\n",
    "    counter = 0\n",
    "    sum = np.zeros([100,], dtype=np.float32)\n",
    "    for news_word in news:\n",
    "        if news_word in model.wv:\n",
    "            data = model[news_word]\n",
    "            sum = np.add(sum, model[news_word])\n",
    "            counter += 1\n",
    "    return sum / len(news)\n",
    "\n",
    "#  add every news average into a list\n",
    "average_of_news_vectors = []\n",
    "for news_items in cleaned_list_of_list:\n",
    "    average_of_news_vectors.append(get_average(news_items))"
   ]
  },
  {
   "cell_type": "code",
   "execution_count": 7,
   "metadata": {},
   "outputs": [],
   "source": [
    "def cos_similarity (firstItem, secondItem):\n",
    "    coss = np.dot(firstItem, secondItem) / (np.linalg.norm(firstItem) * np.linalg.norm(secondItem))\n",
    "    return coss"
   ]
  },
  {
   "cell_type": "code",
   "execution_count": 65,
   "metadata": {
    "tags": []
   },
   "outputs": [],
   "source": [
    "indises = []\n",
    "for i in range(len(average_of_news_vectors)):\n",
    "    for j in range(i + 1, len(average_of_news_vectors)):\n",
    "        result = cos_similarity(average_of_news_vectors[i], average_of_news_vectors[j])\n",
    "        if result >= 0.9:\n",
    "            indises.append(j)"
   ]
  },
  {
   "cell_type": "code",
   "execution_count": 67,
   "metadata": {},
   "outputs": [],
   "source": [
    "unique_indises = set(indises)\n",
    "for i in unique_indises:\n",
    "    f = open(\"same_news_2.txt\", \"a\")\n",
    "    f.write(cleaned_list[i])\n",
    "    f.write(\"\\n\")\n",
    "f.close()"
   ]
  },
  {
   "cell_type": "code",
   "execution_count": 68,
   "metadata": {},
   "outputs": [],
   "source": [
    "for i in range(len(cleaned_list)):\n",
    "    if i not in unique_indises:\n",
    "        f = open(\"same_news_2.txt\", \"a\")\n",
    "        f.write(cleaned_list[i])\n",
    "        f.write(\"\\n\")\n",
    "f.close()"
   ]
  }
 ],
 "metadata": {
  "kernelspec": {
   "display_name": "Python 3.8.5 64-bit ('env')",
   "name": "python38564bitenv120edc9b1e3d42bcb6e5cd280434e004"
  },
  "language_info": {
   "codemirror_mode": {
    "name": "ipython",
    "version": 3
   },
   "file_extension": ".py",
   "mimetype": "text/x-python",
   "name": "python",
   "nbconvert_exporter": "python",
   "pygments_lexer": "ipython3",
   "version": "3.8.5-final"
  },
  "orig_nbformat": 2
 },
 "nbformat": 4,
 "nbformat_minor": 2
}
