{
 "cells": [
  {
   "cell_type": "code",
   "execution_count": 1,
   "metadata": {},
   "outputs": [],
   "source": [
    "import pandas as pd\n",
    "import re\n",
    "import nltk\n",
    "from sklearn.feature_extraction.text import TfidfVectorizer\n",
    "from itertools import chain\n",
    "from matplotlib import pyplot as plt"
   ]
  },
  {
   "cell_type": "code",
   "execution_count": 2,
   "metadata": {},
   "outputs": [
    {
     "data": {
      "text/html": [
       "<div>\n",
       "<style scoped>\n",
       "    .dataframe tbody tr th:only-of-type {\n",
       "        vertical-align: middle;\n",
       "    }\n",
       "\n",
       "    .dataframe tbody tr th {\n",
       "        vertical-align: top;\n",
       "    }\n",
       "\n",
       "    .dataframe thead th {\n",
       "        text-align: right;\n",
       "    }\n",
       "</style>\n",
       "<table border=\"1\" class=\"dataframe\">\n",
       "  <thead>\n",
       "    <tr style=\"text-align: right;\">\n",
       "      <th></th>\n",
       "      <th>Content</th>\n",
       "    </tr>\n",
       "  </thead>\n",
       "  <tbody>\n",
       "    <tr>\n",
       "      <th>14053</th>\n",
       "      <td>Euro Bölgesi büyüme öngörüsü altı yılın en düşüğünde\\nIMF Euro Bölgesi büyüme öngörüsünü altı yılın en düşük düzeyine çekti\\nUluslararası Para Fonu (IMF), Bölgesel Ekonomik Görünüm raporunda Euro Bölgesi gayrisafi yurt içi hasılasının son altı yılın en düşük büyüme hızına gerileyerek, 2019 yılında yüzde 0.1 düşüşle yüzde 1.2 düzeyinde gerçekleşeceğini öngördü.\\nEuro Bölgesi için 2020 ve 2021 yılına ilişkin büyüme tahminlerini yüzde 1.5'ten yüzde 1.4'e düşüren IMF, düşüşün nedeni olarak Almanya ve İtalya ekonomilerinde görülen zayıflamayı gösterdi.IMF, 19 ülkeden oluşan Euro Bölgesi'nin bu yıl için büyüme öngörüsünü, daha önceki yüzde 1.3 düzeyinden yüzde 1.2'ye revize etti. Euro Bölgesi'nin 2018 büyümesi yüzde 1.9 düzeyindeydi.\\nAlmanya ve İtalya için önceki büyüme tahminlerini revize eden IMF, yavaşlamanın çoğunlukla euro bölgesinin en büyük ekonomisi Almanya'daki zayıf büyüme ve üçüncü büyük ekonomisi İtalya'daki durgunluktan kaynaklandığını ifade etti.\\nIMF Almanya ekonomisindeki büyüme beklentisini Nisan ayı tahmini olan yüzde 0.8'den yüzde 0.5'e ve İtalyan ekonomisinin de duraklayacağını öngörerek büyüme beklentisini yüzde 0.9'dan yüzde 0.5'e düşürdü.\\nETİKETLER :\\n                \\n                                        IMF\\n                                        euro bölgesi</td>\n",
       "    </tr>\n",
       "  </tbody>\n",
       "</table>\n",
       "</div>"
      ],
      "text/plain": [
       "                                                                                                                                                                                                                                                                                                                                                                                                                                                                                                                                                                                                                                                                                                                                                                                                                                                                                                                                                                                                                                                                                                                                                                                                                                                                                                                                                        Content\n",
       "14053  Euro Bölgesi büyüme öngörüsü altı yılın en düşüğünde\\nIMF Euro Bölgesi büyüme öngörüsünü altı yılın en düşük düzeyine çekti\\nUluslararası Para Fonu (IMF), Bölgesel Ekonomik Görünüm raporunda Euro Bölgesi gayrisafi yurt içi hasılasının son altı yılın en düşük büyüme hızına gerileyerek, 2019 yılında yüzde 0.1 düşüşle yüzde 1.2 düzeyinde gerçekleşeceğini öngördü.\\nEuro Bölgesi için 2020 ve 2021 yılına ilişkin büyüme tahminlerini yüzde 1.5'ten yüzde 1.4'e düşüren IMF, düşüşün nedeni olarak Almanya ve İtalya ekonomilerinde görülen zayıflamayı gösterdi.IMF, 19 ülkeden oluşan Euro Bölgesi'nin bu yıl için büyüme öngörüsünü, daha önceki yüzde 1.3 düzeyinden yüzde 1.2'ye revize etti. Euro Bölgesi'nin 2018 büyümesi yüzde 1.9 düzeyindeydi.\\nAlmanya ve İtalya için önceki büyüme tahminlerini revize eden IMF, yavaşlamanın çoğunlukla euro bölgesinin en büyük ekonomisi Almanya'daki zayıf büyüme ve üçüncü büyük ekonomisi İtalya'daki durgunluktan kaynaklandığını ifade etti.\\nIMF Almanya ekonomisindeki büyüme beklentisini Nisan ayı tahmini olan yüzde 0.8'den yüzde 0.5'e ve İtalyan ekonomisinin de duraklayacağını öngörerek büyüme beklentisini yüzde 0.9'dan yüzde 0.5'e düşürdü.\\nETİKETLER :\\n                \\n                                        IMF\\n                                        euro bölgesi"
      ]
     },
     "execution_count": 2,
     "metadata": {},
     "output_type": "execute_result"
    }
   ],
   "source": [
    "df = pd.read_pickle(r'../data/clustered_test_998_group_4.pkl')\n",
    "df = df.drop(df.columns[[1,2,4,5,3]], axis=1)\n",
    "pd.set_option('max_colwidth', None)\n",
    "df.head(1)"
   ]
  },
  {
   "cell_type": "code",
   "execution_count": 3,
   "metadata": {},
   "outputs": [],
   "source": [
    "myRegex = '!\"#$%&\\'()*+,-/:;<=>?@[\\\\]^_`{|}~'\n",
    "stop_word_list = nltk.corpus.stopwords.words('turkish')\n",
    "def clean_text(text):\n",
    "    text = text.lower()\n",
    "    text = re.sub('\\[*?\\]', ' ', text)\n",
    "    text = re.sub('[%s]' % re.escape(myRegex), ' ', text)\n",
    "    text = re.sub('\\w*\\d\\w*', '', text)\n",
    "    text = re.sub('[‘’“”…]', ' ', text)\n",
    "    text = re.sub('\\t', '', text)\n",
    "    text = re.sub('\\n', '', text)\n",
    "    word_tokens = nltk.word_tokenize(text)\n",
    "    filtered_sentences = [w for w in word_tokens if not w in stop_word_list]\n",
    "\n",
    "    text = ' '.join(filtered_sentences)\n",
    "    return text\n",
    "    \n",
    "round1 = lambda x: clean_text(x)\n",
    "\n",
    "df = pd.DataFrame(df['Content'].apply(round1))"
   ]
  },
  {
   "cell_type": "code",
   "execution_count": 4,
   "metadata": {},
   "outputs": [
    {
     "data": {
      "text/html": [
       "<div>\n",
       "<style scoped>\n",
       "    .dataframe tbody tr th:only-of-type {\n",
       "        vertical-align: middle;\n",
       "    }\n",
       "\n",
       "    .dataframe tbody tr th {\n",
       "        vertical-align: top;\n",
       "    }\n",
       "\n",
       "    .dataframe thead th {\n",
       "        text-align: right;\n",
       "    }\n",
       "</style>\n",
       "<table border=\"1\" class=\"dataframe\">\n",
       "  <thead>\n",
       "    <tr style=\"text-align: right;\">\n",
       "      <th></th>\n",
       "      <th>Content</th>\n",
       "      <th>ready_data</th>\n",
       "    </tr>\n",
       "  </thead>\n",
       "  <tbody>\n",
       "    <tr>\n",
       "      <th>14053</th>\n",
       "      <td>euro bölgesi büyüme öngörüsü altı yılın düşüğündeimf euro bölgesi büyüme öngörüsünü altı yılın düşük düzeyine çektiuluslararası para fonu imf bölgesel ekonomik görünüm raporunda euro bölgesi gayrisafi yurt içi hasılasının son altı yılın düşük büyüme hızına gerileyerek yılında yüzde . düşüşle yüzde . düzeyinde gerçekleşeceğini öngördü.euro bölgesi yılına ilişkin büyüme tahminlerini yüzde . ten yüzde . e düşüren imf düşüşün nedeni olarak almanya i̇talya ekonomilerinde görülen zayıflamayı gösterdi.imf ülkeden oluşan euro bölgesi nin yıl büyüme öngörüsünü önceki yüzde . düzeyinden yüzde . ye revize etti . euro bölgesi nin büyümesi yüzde . düzeyindeydi.almanya i̇talya önceki büyüme tahminlerini revize eden imf yavaşlamanın çoğunlukla euro bölgesinin büyük ekonomisi almanya daki zayıf büyüme üçüncü büyük ekonomisi i̇talya daki durgunluktan kaynaklandığını ifade etti.imf almanya ekonomisindeki büyüme beklentisini nisan ayı tahmini olan yüzde . den yüzde . e i̇talyan ekonomisinin duraklayacağını öngörerek büyüme beklentisini yüzde . dan yüzde . e düşürdü.eti̇ketler imf euro bölgesi</td>\n",
       "      <td>euro bölgesi büyüme öngörüsü altı yılın düşüğündeimf euro bölgesi büyüme öngörüsünü altı yılın düşük düzeyine çektiuluslararası para fonu bölgesel ekonomik görünüm raporunda euro bölgesi gayrisafi yurt hasılasının altı yılın düşük büyüme hızına gerileyerek yılında yüzde düşüşle yüzde düzeyinde gerçekleşeceğini öngördü.euro bölgesi yılına ilişkin büyüme tahminlerini yüzde yüzde düşüren düşüşün nedeni olarak almanya i̇talya ekonomilerinde görülen zayıflamayı gösterdi.imf ülkeden oluşan euro bölgesi büyüme öngörüsünü önceki yüzde düzeyinden yüzde revize etti euro bölgesi büyümesi yüzde düzeyindeydi.almanya i̇talya önceki büyüme tahminlerini revize eden yavaşlamanın çoğunlukla euro bölgesinin büyük ekonomisi almanya daki zayıf büyüme üçüncü büyük ekonomisi i̇talya daki durgunluktan kaynaklandığını ifade etti.imf almanya ekonomisindeki büyüme beklentisini nisan tahmini olan yüzde yüzde i̇talyan ekonomisinin duraklayacağını öngörerek büyüme beklentisini yüzde yüzde düşürdü.eti̇ketler euro bölgesi</td>\n",
       "    </tr>\n",
       "  </tbody>\n",
       "</table>\n",
       "</div>"
      ],
      "text/plain": [
       "                                                                                                                                                                                                                                                                                                                                                                                                                                                                                                                                                                                                                                                                                                                                                                                                                                                                                                                                                                                                                                                                                                                                  Content  \\\n",
       "14053  euro bölgesi büyüme öngörüsü altı yılın düşüğündeimf euro bölgesi büyüme öngörüsünü altı yılın düşük düzeyine çektiuluslararası para fonu imf bölgesel ekonomik görünüm raporunda euro bölgesi gayrisafi yurt içi hasılasının son altı yılın düşük büyüme hızına gerileyerek yılında yüzde . düşüşle yüzde . düzeyinde gerçekleşeceğini öngördü.euro bölgesi yılına ilişkin büyüme tahminlerini yüzde . ten yüzde . e düşüren imf düşüşün nedeni olarak almanya i̇talya ekonomilerinde görülen zayıflamayı gösterdi.imf ülkeden oluşan euro bölgesi nin yıl büyüme öngörüsünü önceki yüzde . düzeyinden yüzde . ye revize etti . euro bölgesi nin büyümesi yüzde . düzeyindeydi.almanya i̇talya önceki büyüme tahminlerini revize eden imf yavaşlamanın çoğunlukla euro bölgesinin büyük ekonomisi almanya daki zayıf büyüme üçüncü büyük ekonomisi i̇talya daki durgunluktan kaynaklandığını ifade etti.imf almanya ekonomisindeki büyüme beklentisini nisan ayı tahmini olan yüzde . den yüzde . e i̇talyan ekonomisinin duraklayacağını öngörerek büyüme beklentisini yüzde . dan yüzde . e düşürdü.eti̇ketler imf euro bölgesi   \n",
       "\n",
       "                                                                                                                                                                                                                                                                                                                                                                                                                                                                                                                                                                                                                                                                                                                                                                                                                                                                                                                                                                                                                                          ready_data  \n",
       "14053  euro bölgesi büyüme öngörüsü altı yılın düşüğündeimf euro bölgesi büyüme öngörüsünü altı yılın düşük düzeyine çektiuluslararası para fonu bölgesel ekonomik görünüm raporunda euro bölgesi gayrisafi yurt hasılasının altı yılın düşük büyüme hızına gerileyerek yılında yüzde düşüşle yüzde düzeyinde gerçekleşeceğini öngördü.euro bölgesi yılına ilişkin büyüme tahminlerini yüzde yüzde düşüren düşüşün nedeni olarak almanya i̇talya ekonomilerinde görülen zayıflamayı gösterdi.imf ülkeden oluşan euro bölgesi büyüme öngörüsünü önceki yüzde düzeyinden yüzde revize etti euro bölgesi büyümesi yüzde düzeyindeydi.almanya i̇talya önceki büyüme tahminlerini revize eden yavaşlamanın çoğunlukla euro bölgesinin büyük ekonomisi almanya daki zayıf büyüme üçüncü büyük ekonomisi i̇talya daki durgunluktan kaynaklandığını ifade etti.imf almanya ekonomisindeki büyüme beklentisini nisan tahmini olan yüzde yüzde i̇talyan ekonomisinin duraklayacağını öngörerek büyüme beklentisini yüzde yüzde düşürdü.eti̇ketler euro bölgesi  "
      ]
     },
     "execution_count": 4,
     "metadata": {},
     "output_type": "execute_result"
    }
   ],
   "source": [
    "df['ready_data'] = df['Content'].apply(lambda x: ' '.join([w for w in x.split() if len(w)>3]))\n",
    "df.head(1)"
   ]
  },
  {
   "cell_type": "code",
   "execution_count": 5,
   "metadata": {},
   "outputs": [],
   "source": [
    "tokenized_doc = df['ready_data'].apply(lambda x: x.split('.'))\n",
    "tokenized_doc = tokenized_doc.apply(lambda x: [item for item in x if item not in stop_word_list])\n",
    "tokenized_doc = tokenized_doc.tolist()"
   ]
  },
  {
   "cell_type": "code",
   "execution_count": 6,
   "metadata": {
    "tags": []
   },
   "outputs": [
    {
     "data": {
      "text/plain": [
       "998"
      ]
     },
     "execution_count": 6,
     "metadata": {},
     "output_type": "execute_result"
    }
   ],
   "source": [
    "temp_detokenized_doc = []\n",
    "for i in range(len(tokenized_doc)):\n",
    "    t = ' '.join(tokenized_doc[i])\n",
    "    temp_detokenized_doc.append(t)\n",
    "    #if i in tokenized_doc:\n",
    "\n",
    "detokenized_doc = []      \n",
    "for items in temp_detokenized_doc:\n",
    "    item = items.split('.')\n",
    "    detokenized_doc.append(item)\n",
    "\n",
    "detokenized_doc = list(chain.from_iterable(detokenized_doc))\n",
    "len(detokenized_doc)"
   ]
  },
  {
   "cell_type": "code",
   "execution_count": 7,
   "metadata": {},
   "outputs": [
    {
     "name": "stdout",
     "output_type": "stream",
     "text": [
      "(998, 54673)\n"
     ]
    }
   ],
   "source": [
    "vectorizer = TfidfVectorizer(input=detokenized_doc, stop_words=stop_word_list,\n",
    "                             max_df = 0.8, use_idf = True, ngram_range=(1,3))\n",
    "model = vectorizer.fit_transform(detokenized_doc)\n",
    "\n",
    "print(model.shape) \n",
    "terms = vectorizer.get_feature_names()"
   ]
  },
  {
   "cell_type": "code",
   "execution_count": 8,
   "metadata": {
    "tags": []
   },
   "outputs": [
    {
     "data": {
      "text/plain": [
       "(998,)"
      ]
     },
     "execution_count": 8,
     "metadata": {},
     "output_type": "execute_result"
    }
   ],
   "source": [
    "from sklearn.metrics.pairwise import linear_kernel\n",
    "cosine_similarities = linear_kernel(model[0:1], model).flatten()\n",
    "cosine_similarities.shape"
   ]
  },
  {
   "cell_type": "code",
   "execution_count": 9,
   "metadata": {},
   "outputs": [
    {
     "data": {
      "image/png": "[encoded data removed]",
      "text/plain": [
       "<Figure size 1440x720 with 1 Axes>"
      ]
     },
     "metadata": {
      "needs_background": "light"
     },
     "output_type": "display_data"
    }
   ],
   "source": [
    "related_docs_indices = cosine_similarities.argsort()\n",
    "\n",
    "list_cos = []\n",
    "cosine_similarities[related_docs_indices]\n",
    "for item in cosine_similarities:\n",
    "    if item<1:\n",
    "        list_cos.append(item)\n",
    "#np.where(cosine_similarities<0.01)\n",
    "plt.figure(figsize=(20,10))\n",
    "plt.plot(list_cos, '*')\n",
    "plt.show()\n"
   ]
  },
  {
   "cell_type": "code",
   "execution_count": 10,
   "metadata": {},
   "outputs": [],
   "source": [
    "zip_list = list(zip(cosine_similarities, related_docs_indices))\n",
    "\n",
    "prediction_df = pd.DataFrame(columns = ['News', 'Cluster'])\n",
    "\n",
    "for similarity, index in zip_list:\n",
    "    if similarity == 0:\n",
    "        prediction_df = prediction_df.append({'News': detokenized_doc[index], 'Cluster': 'Cluster A'}, ignore_index=True)\n",
    "    elif(similarity>0) & (similarity<= 0.005):\n",
    "        prediction_df = prediction_df.append({'News': detokenized_doc[index], 'Cluster': 'Cluster B'}, ignore_index=True)\n",
    "    elif(similarity>0.005) & (similarity<= 0.5):\n",
    "        prediction_df = prediction_df.append({'News': detokenized_doc[index], 'Cluster': 'Cluster C'}, ignore_index=True)\n",
    "    elif(similarity>0.5) & (similarity<= 1.01):\n",
    "        prediction_df =prediction_df.append({'News': detokenized_doc[index], 'Cluster': 'Cluster D'}, ignore_index=True)"
   ]
  },
  {
   "cell_type": "code",
   "execution_count": 11,
   "metadata": {
    "tags": []
   },
   "outputs": [
    {
     "data": {
      "text/html": [
       "<div>\n",
       "<style scoped>\n",
       "    .dataframe tbody tr th:only-of-type {\n",
       "        vertical-align: middle;\n",
       "    }\n",
       "\n",
       "    .dataframe tbody tr th {\n",
       "        vertical-align: top;\n",
       "    }\n",
       "\n",
       "    .dataframe thead th {\n",
       "        text-align: right;\n",
       "    }\n",
       "</style>\n",
       "<table border=\"1\" class=\"dataframe\">\n",
       "  <thead>\n",
       "    <tr style=\"text-align: right;\">\n",
       "      <th></th>\n",
       "      <th>News</th>\n",
       "      <th>Cluster</th>\n",
       "    </tr>\n",
       "  </thead>\n",
       "  <tbody>\n",
       "    <tr>\n",
       "      <th>0</th>\n",
       "      <td>anali̇z paritesi dinamik menkul dinamik menkul https dinamikmenkul com tarafından hazırlanan paritesi analizi gbpusd parite değer kaybetmeyi sürdürüyor cuma gününden itibaren kademeli şekilde değer kaybeden parite desteğine çekildi paritede yaşanan satış baskısının devam etmesi durumunda seviyesi altında desteğine doğru geri çekilmeler sertleşebilir aksi durumda tepki alımlarının yaşanması yükseliş görülmesi halinde direnci güncelliğini korumaktadır destek burada alan yatırım bilgi yorum tavsiyeler yatırımdanışmanlığı kapsamında değildir yatırım danışmanlığı hizmeti aracı kurumlar portföy yönetim şirketleri mevduat kabul etmeyenbankalar müşteri arasında imzalanacak yatırım danışmanlığı sözleşmesi çerçevesinde sunulmaktadır burada alan yorum vetavsiyeler yorum tavsiyede bulunanların kişisel görüşlerinedayanmaktadır görüşler mali durumunuz risk getiri tercihlerinize uygun olmayabilir nedenle sadece burada alan bilgilere dayanılarak yatırım kararı verilmesi beklentilerinize uygun sonuçlar doğurmayabilir foreks haber merkezi email protected http www foreks com http twitter com foreksturkey</td>\n",
       "      <td>Cluster D</td>\n",
       "    </tr>\n",
       "    <tr>\n",
       "      <th>1</th>\n",
       "      <td>anali̇z altın fiyatları işıkfx işıkfx http www isikfx com tarafından hazırlanan altın analizi altin ticaret savaşlarında yaşanan iyimserlik sonrasında satıcılı seyrin ağırlık kazandığı değerli metalde ticaret anlaşmasını imzalamak üzere yapılacak trump toplantısının aralık ayına kadar ertelenebileceği haber akışlarıyla birlikte toparlanma hareketi görüldü durumda değer metal direncinin üzerinde işlem görmekte süre zarfında ticaret anlaşmasın yönelik gelişmelerle birlikte direnç seviyeleri gündemimize gelebilir ancak aksi yönde satış yönlü işlemlerin yeniden ağırlık kazanması durumunda seviyesi önemli olacaktır seviyesinin kırılması halinde noktaları takip edilebilir burada alan yatırım bilgi yorum tavsiyeler yatırımdanışmanlığı kapsamında değildir yatırım danışmanlığı hizmeti aracı kurumlar portföy yönetim şirketleri mevduat kabul etmeyenbankalar müşteri arasında imzalanacak yatırım danışmanlığı sözleşmesi çerçevesinde sunulmaktadır burada alan yorum vetavsiyeler yorum tavsiyede bulunanların kişisel görüşlerinedayanmaktadır görüşler mali durumunuz risk getiri tercihlerinize uygun olmayabilir nedenle sadece burada alan bilgilere dayanılarak yatırım kararı verilmesi beklentilerinize uygun sonuçlar doğurmayabilir foreks haber merkezi email protected http www foreks com http twitter com foreksturkey</td>\n",
       "      <td>Cluster D</td>\n",
       "    </tr>\n",
       "    <tr>\n",
       "      <th>2</th>\n",
       "      <td>bakan albayrak samsun önemli açıklamalarhazine maliye bakanı berat albayrak türkiye değişim başlıyor sloganıyla başlatılan dünyası buluşma programları kapsamında samsun konuşuyor hazine maliye bakanı berat albayrak türkiye değişim başlıyor sloganıyla başlatılan dünyası buluşma programları kapsamında samsun konuşuyor bakan albayrak açıklamalarından satır başları</td>\n",
       "      <td>Cluster D</td>\n",
       "    </tr>\n",
       "    <tr>\n",
       "      <th>3</th>\n",
       "      <td>bakan albayrak samsun önemli açıklamalarhazine maliye bakanı berat albayrak türkiye değişim başlıyor sloganıyla başlatılan dünyası buluşma programları kapsamında samsun konuşuyor hazine maliye bakanı berat albayrak türkiye değişim başlıyor sloganıyla başlatılan dünyası buluşma programları kapsamında samsun konuşuyor hazine maliye bakanı berat albayrak türkiye değişim başlıyor sloganıyla başlatılan dünyası buluşma programları kapsamında samsun konuşuyor bakan albayrak açıklamalarından satır başları ekonomide yaşadığımız saldırıların hiçbiri birbirinden bağımsız değil ülkemiz yoğun kuşatma planıyla mücadele veriyor tehditlerin hedefi ülkemizin bekasını yıkmaktı bertaraf edildi ülkemizi faiz enflasyon sarmalına almak yolu denediler kaynak</td>\n",
       "      <td>Cluster D</td>\n",
       "    </tr>\n",
       "    <tr>\n",
       "      <th>4</th>\n",
       "      <td>anali̇z altın fiyatları işıkfx işıkfx http www isikfx com tarafından hazırlanan altın analizi altin ticaret savaşlarında yaşanan iyimserlik sonrasında satıcılı seyrin ağırlık kazandığı değerli metalde ticaret anlaşmasını imzalamak üzere yapılacak trump toplantısının aralık ayına kadar ertelenebileceği haber akışlarıyla birlikte toparlanma hareketi görüldü durumda değer metal direncinin üzerinde işlem görmekte süre zarfında ticaret anlaşmasın yönelik gelişmelerle birlikte direnç seviyeleri gündemimize gelebilir ancak aksi yönde satış yönlü işlemlerin yeniden ağırlık kazanması durumunda seviyesi önemli olacaktır seviyesinin kırılması halinde noktaları takip edilebilir burada alan yatırım bilgi yorum tavsiyeler yatırım danışmanlığı kapsamında değildir yatırım danışmanlığı hizmeti aracı kurumlar portföy yönetim şirketleri mevduat kabul etmeyen bankalar müşteri arasında imzalanacak yatırım danışmanlığı sözleşmesi çerçevesinde sunulmaktadır burada alan yorum tavsiyeler yorum tavsiyede bulunanların kişisel görüşlerine dayanmaktadır görüşler mali durumunuz risk getiri tercihlerinize uygun olmayabilir nedenle sadece burada alan bilgilere dayanılarak yatırım kararı verilmesi beklentilerinize uygun sonuçlar doğurmayabilir foreks haber merkezi haber foreks com http www foreks com http twitter com foreksturkey</td>\n",
       "      <td>Cluster D</td>\n",
       "    </tr>\n",
       "    <tr>\n",
       "      <th>...</th>\n",
       "      <td>...</td>\n",
       "      <td>...</td>\n",
       "    </tr>\n",
       "    <tr>\n",
       "      <th>993</th>\n",
       "      <td>euro bölgesi büyüme öngörüsünü altı yılın düşük düzeyine çektiuluslararası para fonu bölgesel ekonomik görünüm raporunda euro bölgesi gayrisafi yurt hasılasının altı yılın düşük büyüme hızına gerileyerek yılında yüzde düşüşle yüzde düzeyinde gerçekleşeceğini öngördü euro bölgesi yılına ilişkin büyüme tahminlerini yüzde yüzde düşüren düşüşün nedeni olarak almanya i̇talya ekonomilerinde görülen zayıflamayı gösterdi imf ülkeden oluşan euro bölgesi büyüme öngörüsünü önceki yüzde düzeyinden yüzde revize etti euro bölgesi büyümesi yüzde düzeyindeydi almanya i̇talya önceki büyüme tahminlerini revize eden yavaşlamanın çoğunlukla euro bölgesinin büyük ekonomisi almanya daki zayıf büyüme üçüncü büyük ekonomisi i̇talya daki durgunluktan kaynaklandığını ifade etti imf almanya ekonomisindeki büyüme beklentisini nisan tahmini olan yüzde yüzde i̇talyan ekonomisinin duraklayacağını öngörerek büyüme beklentisini yüzde yüzde düşürdü</td>\n",
       "      <td>Cluster B</td>\n",
       "    </tr>\n",
       "    <tr>\n",
       "      <th>994</th>\n",
       "      <td>euro bölgesi büyüme öngörüsünü altı yılın düşük düzeyine çektiuluslararası para fonu bölgesel ekonomik görünüm raporunda euro bölgesi gayrisafi yurt hasılasının altı yılın düşük büyüme hızına gerileyerek yılında yüzde düşüşle yüzde düzeyinde gerçekleşeceğini öngördü euro bölgesi yılına ilişkin büyüme tahminlerini yüzde yüzde düşüren düşüşün nedeni olarak almanya i̇talya ekonomilerinde görülen zayıflamayı gösterdi imf ülkeden oluşan euro bölgesi büyüme öngörüsünü önceki yüzde düzeyinden yüzde revize etti euro bölgesi büyümesi yüzde düzeyindeydi almanya i̇talya önceki büyüme tahminlerini revize eden yavaşlamanın çoğunlukla euro bölgesinin büyük ekonomisi almanya daki zayıf büyüme üçüncü büyük ekonomisi i̇talya daki durgunluktan kaynaklandığını ifade etti imf almanya ekonomisindeki büyüme beklentisini nisan tahmini olan yüzde yüzde i̇talyan ekonomisinin duraklayacağını öngörerek büyüme beklentisini yüzde yüzde düşürdü</td>\n",
       "      <td>Cluster B</td>\n",
       "    </tr>\n",
       "    <tr>\n",
       "      <th>995</th>\n",
       "      <td>euro bölgesi büyüme öngörüsünü altı yılın düşük düzeyine çektiuluslararası para fonu bölgesel ekonomik görünüm raporunda euro bölgesi gayrisafi yurt hasılasının altı yılın düşük büyüme hızına gerileyerek yılında yüzde düşüşle yüzde düzeyinde gerçekleşeceğini öngördü euro bölgesi yılına ilişkin büyüme tahminlerini yüzde yüzde düşüren düşüşün nedeni olarak almanya i̇talya ekonomilerinde görülen zayıflamayı gösterdi imf ülkeden oluşan euro bölgesi büyüme öngörüsünü önceki yüzde düzeyinden yüzde revize etti euro bölgesi büyümesi yüzde düzeyindeydi almanya i̇talya önceki büyüme tahminlerini revize eden yavaşlamanın çoğunlukla euro bölgesinin büyük ekonomisi almanya daki zayıf büyüme üçüncü büyük ekonomisi i̇talya daki durgunluktan kaynaklandığını ifade etti imf almanya ekonomisindeki büyüme beklentisini nisan tahmini olan yüzde yüzde i̇talyan ekonomisinin duraklayacağını öngörerek büyüme beklentisini yüzde yüzde düşürdü</td>\n",
       "      <td>Cluster B</td>\n",
       "    </tr>\n",
       "    <tr>\n",
       "      <th>996</th>\n",
       "      <td>euro bölgesi büyüme öngörüsünü altı yılın düşük düzeyine çektiuluslararası para fonu bölgesel ekonomik görünüm raporunda euro bölgesi gayrisafi yurt hasılasının altı yılın düşük büyüme hızına gerileyerek yılında yüzde düşüşle yüzde düzeyinde gerçekleşeceğini öngördü euro bölgesi yılına ilişkin büyüme tahminlerini yüzde yüzde düşüren düşüşün nedeni olarak almanya i̇talya ekonomilerinde görülen zayıflamayı gösterdi imf ülkeden oluşan euro bölgesi büyüme öngörüsünü önceki yüzde düzeyinden yüzde revize etti euro bölgesi büyümesi yüzde düzeyindeydi almanya i̇talya önceki büyüme tahminlerini revize eden yavaşlamanın çoğunlukla euro bölgesinin büyük ekonomisi almanya daki zayıf büyüme üçüncü büyük ekonomisi i̇talya daki durgunluktan kaynaklandığını ifade etti imf almanya ekonomisindeki büyüme beklentisini nisan tahmini olan yüzde yüzde i̇talyan ekonomisinin duraklayacağını öngörerek büyüme beklentisini yüzde yüzde düşürdü</td>\n",
       "      <td>Cluster B</td>\n",
       "    </tr>\n",
       "    <tr>\n",
       "      <th>997</th>\n",
       "      <td>euro bölgesi büyüme öngörüsü altı yılın düşüğündeimf euro bölgesi büyüme öngörüsünü altı yılın düşük düzeyine çektiuluslararası para fonu bölgesel ekonomik görünüm raporunda euro bölgesi gayrisafi yurt hasılasının altı yılın düşük büyüme hızına gerileyerek yılında yüzde düşüşle yüzde düzeyinde gerçekleşeceğini öngördü euro bölgesi yılına ilişkin büyüme tahminlerini yüzde yüzde düşüren düşüşün nedeni olarak almanya i̇talya ekonomilerinde görülen zayıflamayı gösterdi imf ülkeden oluşan euro bölgesi büyüme öngörüsünü önceki yüzde düzeyinden yüzde revize etti euro bölgesi büyümesi yüzde düzeyindeydi almanya i̇talya önceki büyüme tahminlerini revize eden yavaşlamanın çoğunlukla euro bölgesinin büyük ekonomisi almanya daki zayıf büyüme üçüncü büyük ekonomisi i̇talya daki durgunluktan kaynaklandığını ifade etti imf almanya ekonomisindeki büyüme beklentisini nisan tahmini olan yüzde yüzde i̇talyan ekonomisinin duraklayacağını öngörerek büyüme beklentisini yüzde yüzde düşürdü eti̇ketler euro bölgesi</td>\n",
       "      <td>Cluster B</td>\n",
       "    </tr>\n",
       "  </tbody>\n",
       "</table>\n",
       "<p>998 rows × 2 columns</p>\n",
       "</div>"
      ],
      "text/plain": [
       "                                                                                                                                                                                                                                                                                                                                                                                                                                                                                                                                                                                                                                                                                                                                                                                                                                                                                                                                                                                                                                                                                                                                                                                                                                                                                                                                                                       News  \\\n",
       "0                                                                                                                                                                                                                            anali̇z paritesi dinamik menkul dinamik menkul https dinamikmenkul com tarafından hazırlanan paritesi analizi gbpusd parite değer kaybetmeyi sürdürüyor cuma gününden itibaren kademeli şekilde değer kaybeden parite desteğine çekildi paritede yaşanan satış baskısının devam etmesi durumunda seviyesi altında desteğine doğru geri çekilmeler sertleşebilir aksi durumda tepki alımlarının yaşanması yükseliş görülmesi halinde direnci güncelliğini korumaktadır destek burada alan yatırım bilgi yorum tavsiyeler yatırımdanışmanlığı kapsamında değildir yatırım danışmanlığı hizmeti aracı kurumlar portföy yönetim şirketleri mevduat kabul etmeyenbankalar müşteri arasında imzalanacak yatırım danışmanlığı sözleşmesi çerçevesinde sunulmaktadır burada alan yorum vetavsiyeler yorum tavsiyede bulunanların kişisel görüşlerinedayanmaktadır görüşler mali durumunuz risk getiri tercihlerinize uygun olmayabilir nedenle sadece burada alan bilgilere dayanılarak yatırım kararı verilmesi beklentilerinize uygun sonuçlar doğurmayabilir foreks haber merkezi email protected http www foreks com http twitter com foreksturkey   \n",
       "1      anali̇z altın fiyatları işıkfx işıkfx http www isikfx com tarafından hazırlanan altın analizi altin ticaret savaşlarında yaşanan iyimserlik sonrasında satıcılı seyrin ağırlık kazandığı değerli metalde ticaret anlaşmasını imzalamak üzere yapılacak trump toplantısının aralık ayına kadar ertelenebileceği haber akışlarıyla birlikte toparlanma hareketi görüldü durumda değer metal direncinin üzerinde işlem görmekte süre zarfında ticaret anlaşmasın yönelik gelişmelerle birlikte direnç seviyeleri gündemimize gelebilir ancak aksi yönde satış yönlü işlemlerin yeniden ağırlık kazanması durumunda seviyesi önemli olacaktır seviyesinin kırılması halinde noktaları takip edilebilir burada alan yatırım bilgi yorum tavsiyeler yatırımdanışmanlığı kapsamında değildir yatırım danışmanlığı hizmeti aracı kurumlar portföy yönetim şirketleri mevduat kabul etmeyenbankalar müşteri arasında imzalanacak yatırım danışmanlığı sözleşmesi çerçevesinde sunulmaktadır burada alan yorum vetavsiyeler yorum tavsiyede bulunanların kişisel görüşlerinedayanmaktadır görüşler mali durumunuz risk getiri tercihlerinize uygun olmayabilir nedenle sadece burada alan bilgilere dayanılarak yatırım kararı verilmesi beklentilerinize uygun sonuçlar doğurmayabilir foreks haber merkezi email protected http www foreks com http twitter com foreksturkey   \n",
       "2                                                                                                                                                                                                                                                                                                                                                                                                                                                                                                                                                                                                                                                                                                                                                                                                                                                                                                                                                                                               bakan albayrak samsun önemli açıklamalarhazine maliye bakanı berat albayrak türkiye değişim başlıyor sloganıyla başlatılan dünyası buluşma programları kapsamında samsun konuşuyor hazine maliye bakanı berat albayrak türkiye değişim başlıyor sloganıyla başlatılan dünyası buluşma programları kapsamında samsun konuşuyor bakan albayrak açıklamalarından satır başları   \n",
       "3                                                                                                                                                                                                                                                                                                                                                                                                                                                                                                                                                                                                 bakan albayrak samsun önemli açıklamalarhazine maliye bakanı berat albayrak türkiye değişim başlıyor sloganıyla başlatılan dünyası buluşma programları kapsamında samsun konuşuyor hazine maliye bakanı berat albayrak türkiye değişim başlıyor sloganıyla başlatılan dünyası buluşma programları kapsamında samsun konuşuyor hazine maliye bakanı berat albayrak türkiye değişim başlıyor sloganıyla başlatılan dünyası buluşma programları kapsamında samsun konuşuyor bakan albayrak açıklamalarından satır başları ekonomide yaşadığımız saldırıların hiçbiri birbirinden bağımsız değil ülkemiz yoğun kuşatma planıyla mücadele veriyor tehditlerin hedefi ülkemizin bekasını yıkmaktı bertaraf edildi ülkemizi faiz enflasyon sarmalına almak yolu denediler kaynak   \n",
       "4    anali̇z altın fiyatları işıkfx işıkfx http www isikfx com tarafından hazırlanan altın analizi altin ticaret savaşlarında yaşanan iyimserlik sonrasında satıcılı seyrin ağırlık kazandığı değerli metalde ticaret anlaşmasını imzalamak üzere yapılacak trump toplantısının aralık ayına kadar ertelenebileceği haber akışlarıyla birlikte toparlanma hareketi görüldü durumda değer metal direncinin üzerinde işlem görmekte süre zarfında ticaret anlaşmasın yönelik gelişmelerle birlikte direnç seviyeleri gündemimize gelebilir ancak aksi yönde satış yönlü işlemlerin yeniden ağırlık kazanması durumunda seviyesi önemli olacaktır seviyesinin kırılması halinde noktaları takip edilebilir burada alan yatırım bilgi yorum tavsiyeler yatırım danışmanlığı kapsamında değildir yatırım danışmanlığı hizmeti aracı kurumlar portföy yönetim şirketleri mevduat kabul etmeyen bankalar müşteri arasında imzalanacak yatırım danışmanlığı sözleşmesi çerçevesinde sunulmaktadır burada alan yorum tavsiyeler yorum tavsiyede bulunanların kişisel görüşlerine dayanmaktadır görüşler mali durumunuz risk getiri tercihlerinize uygun olmayabilir nedenle sadece burada alan bilgilere dayanılarak yatırım kararı verilmesi beklentilerinize uygun sonuçlar doğurmayabilir foreks haber merkezi haber foreks com http www foreks com http twitter com foreksturkey   \n",
       "..                                                                                                                                                                                                                                                                                                                                                                                                                                                                                                                                                                                                                                                                                                                                                                                                                                                                                                                                                                                                                                                                                                                                                                                                                                                                                                                                                                      ...   \n",
       "993                                                                                                                                                                                                                                                                                                                                                                                                        euro bölgesi büyüme öngörüsünü altı yılın düşük düzeyine çektiuluslararası para fonu bölgesel ekonomik görünüm raporunda euro bölgesi gayrisafi yurt hasılasının altı yılın düşük büyüme hızına gerileyerek yılında yüzde düşüşle yüzde düzeyinde gerçekleşeceğini öngördü euro bölgesi yılına ilişkin büyüme tahminlerini yüzde yüzde düşüren düşüşün nedeni olarak almanya i̇talya ekonomilerinde görülen zayıflamayı gösterdi imf ülkeden oluşan euro bölgesi büyüme öngörüsünü önceki yüzde düzeyinden yüzde revize etti euro bölgesi büyümesi yüzde düzeyindeydi almanya i̇talya önceki büyüme tahminlerini revize eden yavaşlamanın çoğunlukla euro bölgesinin büyük ekonomisi almanya daki zayıf büyüme üçüncü büyük ekonomisi i̇talya daki durgunluktan kaynaklandığını ifade etti imf almanya ekonomisindeki büyüme beklentisini nisan tahmini olan yüzde yüzde i̇talyan ekonomisinin duraklayacağını öngörerek büyüme beklentisini yüzde yüzde düşürdü   \n",
       "994                                                                                                                                                                                                                                                                                                                                                                                                        euro bölgesi büyüme öngörüsünü altı yılın düşük düzeyine çektiuluslararası para fonu bölgesel ekonomik görünüm raporunda euro bölgesi gayrisafi yurt hasılasının altı yılın düşük büyüme hızına gerileyerek yılında yüzde düşüşle yüzde düzeyinde gerçekleşeceğini öngördü euro bölgesi yılına ilişkin büyüme tahminlerini yüzde yüzde düşüren düşüşün nedeni olarak almanya i̇talya ekonomilerinde görülen zayıflamayı gösterdi imf ülkeden oluşan euro bölgesi büyüme öngörüsünü önceki yüzde düzeyinden yüzde revize etti euro bölgesi büyümesi yüzde düzeyindeydi almanya i̇talya önceki büyüme tahminlerini revize eden yavaşlamanın çoğunlukla euro bölgesinin büyük ekonomisi almanya daki zayıf büyüme üçüncü büyük ekonomisi i̇talya daki durgunluktan kaynaklandığını ifade etti imf almanya ekonomisindeki büyüme beklentisini nisan tahmini olan yüzde yüzde i̇talyan ekonomisinin duraklayacağını öngörerek büyüme beklentisini yüzde yüzde düşürdü   \n",
       "995                                                                                                                                                                                                                                                                                                                                                                                                        euro bölgesi büyüme öngörüsünü altı yılın düşük düzeyine çektiuluslararası para fonu bölgesel ekonomik görünüm raporunda euro bölgesi gayrisafi yurt hasılasının altı yılın düşük büyüme hızına gerileyerek yılında yüzde düşüşle yüzde düzeyinde gerçekleşeceğini öngördü euro bölgesi yılına ilişkin büyüme tahminlerini yüzde yüzde düşüren düşüşün nedeni olarak almanya i̇talya ekonomilerinde görülen zayıflamayı gösterdi imf ülkeden oluşan euro bölgesi büyüme öngörüsünü önceki yüzde düzeyinden yüzde revize etti euro bölgesi büyümesi yüzde düzeyindeydi almanya i̇talya önceki büyüme tahminlerini revize eden yavaşlamanın çoğunlukla euro bölgesinin büyük ekonomisi almanya daki zayıf büyüme üçüncü büyük ekonomisi i̇talya daki durgunluktan kaynaklandığını ifade etti imf almanya ekonomisindeki büyüme beklentisini nisan tahmini olan yüzde yüzde i̇talyan ekonomisinin duraklayacağını öngörerek büyüme beklentisini yüzde yüzde düşürdü   \n",
       "996                                                                                                                                                                                                                                                                                                                                                                                                        euro bölgesi büyüme öngörüsünü altı yılın düşük düzeyine çektiuluslararası para fonu bölgesel ekonomik görünüm raporunda euro bölgesi gayrisafi yurt hasılasının altı yılın düşük büyüme hızına gerileyerek yılında yüzde düşüşle yüzde düzeyinde gerçekleşeceğini öngördü euro bölgesi yılına ilişkin büyüme tahminlerini yüzde yüzde düşüren düşüşün nedeni olarak almanya i̇talya ekonomilerinde görülen zayıflamayı gösterdi imf ülkeden oluşan euro bölgesi büyüme öngörüsünü önceki yüzde düzeyinden yüzde revize etti euro bölgesi büyümesi yüzde düzeyindeydi almanya i̇talya önceki büyüme tahminlerini revize eden yavaşlamanın çoğunlukla euro bölgesinin büyük ekonomisi almanya daki zayıf büyüme üçüncü büyük ekonomisi i̇talya daki durgunluktan kaynaklandığını ifade etti imf almanya ekonomisindeki büyüme beklentisini nisan tahmini olan yüzde yüzde i̇talyan ekonomisinin duraklayacağını öngörerek büyüme beklentisini yüzde yüzde düşürdü   \n",
       "997                                                                                                                                                                                                                                                                                                                           euro bölgesi büyüme öngörüsü altı yılın düşüğündeimf euro bölgesi büyüme öngörüsünü altı yılın düşük düzeyine çektiuluslararası para fonu bölgesel ekonomik görünüm raporunda euro bölgesi gayrisafi yurt hasılasının altı yılın düşük büyüme hızına gerileyerek yılında yüzde düşüşle yüzde düzeyinde gerçekleşeceğini öngördü euro bölgesi yılına ilişkin büyüme tahminlerini yüzde yüzde düşüren düşüşün nedeni olarak almanya i̇talya ekonomilerinde görülen zayıflamayı gösterdi imf ülkeden oluşan euro bölgesi büyüme öngörüsünü önceki yüzde düzeyinden yüzde revize etti euro bölgesi büyümesi yüzde düzeyindeydi almanya i̇talya önceki büyüme tahminlerini revize eden yavaşlamanın çoğunlukla euro bölgesinin büyük ekonomisi almanya daki zayıf büyüme üçüncü büyük ekonomisi i̇talya daki durgunluktan kaynaklandığını ifade etti imf almanya ekonomisindeki büyüme beklentisini nisan tahmini olan yüzde yüzde i̇talyan ekonomisinin duraklayacağını öngörerek büyüme beklentisini yüzde yüzde düşürdü eti̇ketler euro bölgesi   \n",
       "\n",
       "       Cluster  \n",
       "0    Cluster D  \n",
       "1    Cluster D  \n",
       "2    Cluster D  \n",
       "3    Cluster D  \n",
       "4    Cluster D  \n",
       "..         ...  \n",
       "993  Cluster B  \n",
       "994  Cluster B  \n",
       "995  Cluster B  \n",
       "996  Cluster B  \n",
       "997  Cluster B  \n",
       "\n",
       "[998 rows x 2 columns]"
      ]
     },
     "execution_count": 11,
     "metadata": {},
     "output_type": "execute_result"
    }
   ],
   "source": [
    "prediction_df"
   ]
  },
  {
   "cell_type": "code",
   "execution_count": 12,
   "metadata": {
    "tags": []
   },
   "outputs": [
    {
     "name": "stdout",
     "output_type": "stream",
     "text": [
      "CUMLENIN ASLI: euro bölgesi büyüme öngörüsü altı yılın düşüğündeimf euro bölgesi büyüme öngörüsünü altı yılın düşük düzeyine çektiuluslararası para fonu bölgesel ekonomik görünüm raporunda euro bölgesi gayrisafi yurt hasılasının altı yılın düşük büyüme hızına gerileyerek yılında yüzde düşüşle yüzde düzeyinde gerçekleşeceğini öngördü euro bölgesi yılına ilişkin büyüme tahminlerini yüzde yüzde düşüren düşüşün nedeni olarak almanya i̇talya ekonomilerinde görülen zayıflamayı gösterdi imf ülkeden oluşan euro bölgesi büyüme öngörüsünü önceki yüzde düzeyinden yüzde revize etti euro bölgesi büyümesi yüzde düzeyindeydi almanya i̇talya önceki büyüme tahminlerini revize eden yavaşlamanın çoğunlukla euro bölgesinin büyük ekonomisi almanya daki zayıf büyüme üçüncü büyük ekonomisi i̇talya daki durgunluktan kaynaklandığını ifade etti imf almanya ekonomisindeki büyüme beklentisini nisan tahmini olan yüzde yüzde i̇talyan ekonomisinin duraklayacağını öngörerek büyüme beklentisini yüzde yüzde düşürdü eti̇ketler euro bölgesi\n",
      "\n",
      "\n",
      "EN ALAKASIZ: anali̇z paritesi dinamik menkul dinamik menkul https dinamikmenkul com tarafından hazırlanan paritesi analizi gbpusd parite değer kaybetmeyi sürdürüyor cuma gününden itibaren kademeli şekilde değer kaybeden parite desteğine çekildi paritede yaşanan satış baskısının devam etmesi durumunda seviyesi altında desteğine doğru geri çekilmeler sertleşebilir aksi durumda tepki alımlarının yaşanması yükseliş görülmesi halinde direnci güncelliğini korumaktadır destek burada alan yatırım bilgi yorum tavsiyeler yatırımdanışmanlığı kapsamında değildir yatırım danışmanlığı hizmeti aracı kurumlar portföy yönetim şirketleri mevduat kabul etmeyenbankalar müşteri arasında imzalanacak yatırım danışmanlığı sözleşmesi çerçevesinde sunulmaktadır burada alan yorum vetavsiyeler yorum tavsiyede bulunanların kişisel görüşlerinedayanmaktadır görüşler mali durumunuz risk getiri tercihlerinize uygun olmayabilir nedenle sadece burada alan bilgilere dayanılarak yatırım kararı verilmesi beklentilerinize uygun sonuçlar doğurmayabilir foreks haber merkezi haber foreks com http www foreks com http twitter com foreksturkey\n",
      "\n",
      "\n",
      "EN ALAKALI: euro bölgesi büyüme öngörüsünü altı yılın düşük düzeyine çektiuluslararası para fonu bölgesel ekonomik görünüm raporunda euro bölgesi gayrisafi yurt hasılasının altı yılın düşük büyüme hızına gerileyerek yılında yüzde düşüşle yüzde düzeyinde gerçekleşeceğini öngördü euro bölgesi yılına ilişkin büyüme tahminlerini yüzde yüzde düşüren düşüşün nedeni olarak almanya i̇talya ekonomilerinde görülen zayıflamayı gösterdi imf ülkeden oluşan euro bölgesi büyüme öngörüsünü önceki yüzde düzeyinden yüzde revize etti euro bölgesi büyümesi yüzde düzeyindeydi almanya i̇talya önceki büyüme tahminlerini revize eden yavaşlamanın çoğunlukla euro bölgesinin büyük ekonomisi almanya daki zayıf büyüme üçüncü büyük ekonomisi i̇talya daki durgunluktan kaynaklandığını ifade etti imf almanya ekonomisindeki büyüme beklentisini nisan tahmini olan yüzde yüzde i̇talyan ekonomisinin duraklayacağını öngörerek büyüme beklentisini yüzde yüzde düşürdü\n"
     ]
    }
   ],
   "source": [
    "print('CUMLENIN ASLI:', detokenized_doc[0])\n",
    "print('\\n')\n",
    "print('EN ALAKASIZ:', detokenized_doc[834])\n",
    "print('\\n')\n",
    "print('EN ALAKALI:', detokenized_doc[12])"
   ]
  },
  {
   "cell_type": "code",
   "execution_count": 13,
   "metadata": {},
   "outputs": [
    {
     "data": {
      "text/plain": [
       "['../model/model.joblib']"
      ]
     },
     "execution_count": 13,
     "metadata": {},
     "output_type": "execute_result"
    }
   ],
   "source": [
    "from joblib import dump\n",
    "dump(model, '../model/model.joblib') "
   ]
  },
  {
   "cell_type": "code",
   "execution_count": 1,
   "metadata": {},
   "outputs": [],
   "source": [
    "from joblib import load\n",
    "clf = load('../model/model.joblib') "
   ]
  },
  {
   "cell_type": "code",
   "execution_count": 2,
   "metadata": {},
   "outputs": [
    {
     "data": {
      "text/plain": [
       "<1x54673 sparse matrix of type '<class 'numpy.float64'>'\n",
       "\twith 299 stored elements in Compressed Sparse Row format>"
      ]
     },
     "execution_count": 2,
     "metadata": {},
     "output_type": "execute_result"
    }
   ],
   "source": []
  },
  {
   "cell_type": "code",
   "execution_count": null,
   "metadata": {},
   "outputs": [],
   "source": []
  }
 ],
 "metadata": {
  "interpreter": {
   "hash": "916dbcbb3f70747c44a77c7bcd40155683ae19c65e1c03b4aa3499c5328201f1"
  },
  "kernelspec": {
   "display_name": "Python 3.8.2 64-bit",
   "language": "python",
   "name": "python3"
  },
  "language_info": {
   "codemirror_mode": {
    "name": "ipython",
    "version": 3
   },
   "file_extension": ".py",
   "mimetype": "text/x-python",
   "name": "python",
   "nbconvert_exporter": "python",
   "pygments_lexer": "ipython3",
   "version": "3.8.10"
  },
  "orig_nbformat": 2
 },
 "nbformat": 4,
 "nbformat_minor": 2
}
